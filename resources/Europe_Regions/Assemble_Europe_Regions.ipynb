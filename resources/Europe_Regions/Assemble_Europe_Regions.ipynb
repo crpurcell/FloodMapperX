{
 "cells": [
  {
   "cell_type": "markdown",
   "id": "fad6c3db",
   "metadata": {},
   "source": [
    "## Assemble Regional AoIs for Europe\n",
    "\n",
    "Assemble a set of areas-of-interest (AoIs) for the Europe landmass that are approximately equal to local government areas (LGAs) in Australia. For larger countries, these will be level-2 divisions, whereas for smaller countries they will be level-1 divisions, or equivalent.\n",
    "\n",
    "Sources of the shapefiles include:\n",
    "* https://geodata.lib.utexas.edu/\n",
    "* https://gadm.org/download_country.html#google_vignette\n",
    "* https://ec.europa.eu/eurostat/web/gisco/geodata/reference-data/administrative-units-statistical-units/nuts#nuts21"
   ]
  },
  {
   "cell_type": "code",
   "execution_count": null,
   "id": "b4bf1918",
   "metadata": {},
   "outputs": [],
   "source": [
    "# Necessary Python modules\n",
    "import sys\n",
    "import os\n",
    "os.environ['USE_PYGEOS'] = '0'\n",
    "\n",
    "import pandas as pd\n",
    "import geopandas as gpd\n",
    "import folium"
   ]
  },
  {
   "cell_type": "code",
   "execution_count": null,
   "id": "d187e86e",
   "metadata": {},
   "outputs": [],
   "source": [
    "# Load the EU NUTS file from disk\n",
    "in_file = \"EU/NUTS_RG_20M_2021_3035.shp\".replace(\"\\\\\",\"/\")\n",
    "eu_gdf = gpd.read_file(in_file)\n",
    "print(f\"[INFO] CRS is {eu_gdf.crs}\")\n",
    "eu_gdf.to_crs(\"EPSG:4326\", inplace=True)\n",
    "eu_gdf.head(2)"
   ]
  },
  {
   "cell_type": "code",
   "execution_count": null,
   "id": "81bfa4e8",
   "metadata": {},
   "outputs": [],
   "source": [
    "# Create a table of country codes and names\n",
    "country_code_name_df = eu_gdf.loc[eu_gdf.LEVL_CODE == 0, ['CNTR_CODE', \"NAME_LATN\"]]\n",
    "country_code_name_df.rename({\"NAME_LATN\": \"COUNTRY\"}, axis=1, inplace=True)\n",
    "country_code_name_df.reset_index(drop=True, inplace=True)\n",
    "country_code_name_df.head(2)"
   ]
  },
  {
   "cell_type": "code",
   "execution_count": null,
   "id": "3b98bf19",
   "metadata": {},
   "outputs": [],
   "source": [
    "# Select the revelvant columns and merge in the country name\n",
    "eu_gdf = eu_gdf.loc[eu_gdf.LEVL_CODE == 2, [\"CNTR_CODE\", \"NAME_LATN\", \"LEVL_CODE\", \"geometry\"]]\n",
    "eu_gdf.rename({\"NAME_LATN\": \"REGION\"}, axis=1, inplace=True)\n",
    "eu_gdf = eu_gdf.merge(country_code_name_df, on=\"CNTR_CODE\", how=\"left\")\n",
    "eu_gdf.head(2)"
   ]
  },
  {
   "cell_type": "code",
   "execution_count": null,
   "id": "f0c4a31d",
   "metadata": {},
   "outputs": [],
   "source": [
    "# Load the Bosnia-Herzegovina file from disk\n",
    "in_file = \"Bosnia-Herzegovina/Bosnia-Herzegovina_L1_Divisions.json\".replace(\"\\\\\",\"/\")\n",
    "bh_gdf = gpd.read_file(in_file)\n",
    "print(f\"[INFO] CRS is {bh_gdf.crs}\")\n",
    "bh_gdf.to_crs(\"EPSG:4326\", inplace=True)\n",
    "bh_gdf.head(2)"
   ]
  },
  {
   "cell_type": "code",
   "execution_count": null,
   "id": "e5384e76",
   "metadata": {},
   "outputs": [],
   "source": [
    "# Select for desired columns\n",
    "bh_gdf.rename({\"name_0\": \"COUNTRY\",\n",
    "               \"iso\": \"CNTR_CODE\",\n",
    "               \"name_1\": \"REGION\"}, axis=1, inplace=True)\n",
    "bh_gdf = bh_gdf[[\"CNTR_CODE\", \"COUNTRY\", \"REGION\", \"geometry\"]].copy()\n",
    "bh_gdf[\"LEVL_CODE\"] = 2\n",
    "bh_gdf.head(2)"
   ]
  },
  {
   "cell_type": "code",
   "execution_count": null,
   "id": "c1c2a8d8",
   "metadata": {},
   "outputs": [],
   "source": [
    "# Load the Kosovo file from disk\n",
    "in_file = \"Kosovo/Kosovo_L1_Divisions.json\".replace(\"\\\\\",\"/\")\n",
    "k_gdf = gpd.read_file(in_file)\n",
    "print(f\"[INFO] CRS is {k_gdf.crs}\")\n",
    "k_gdf.to_crs(\"EPSG:4326\", inplace=True)\n",
    "k_gdf.head(2)"
   ]
  },
  {
   "cell_type": "code",
   "execution_count": null,
   "id": "3c79fd74",
   "metadata": {},
   "outputs": [],
   "source": [
    "# Select for desired columns\n",
    "k_gdf.rename({\"name_0\": \"COUNTRY\",\n",
    "               \"iso\": \"CNTR_CODE\",\n",
    "               \"name_1\": \"REGION\"}, axis=1, inplace=True)\n",
    "k_gdf = k_gdf[[\"CNTR_CODE\", \"COUNTRY\", \"REGION\", \"geometry\"]].copy()\n",
    "k_gdf[\"LEVL_CODE\"] = 1\n",
    "k_gdf.head(2)"
   ]
  },
  {
   "cell_type": "code",
   "execution_count": null,
   "id": "a1e6dca2",
   "metadata": {},
   "outputs": [],
   "source": [
    "# Load the Moldova file from disk\n",
    "in_file = \"Moldova/Moldova_L1_Divisions.json\".replace(\"\\\\\",\"/\")\n",
    "m_gdf = gpd.read_file(in_file)\n",
    "print(f\"[INFO] CRS is {m_gdf.crs}\")\n",
    "m_gdf.to_crs(\"EPSG:4326\", inplace=True)\n",
    "m_gdf.head(2)"
   ]
  },
  {
   "cell_type": "code",
   "execution_count": null,
   "id": "3df3cf38",
   "metadata": {},
   "outputs": [],
   "source": [
    "# Select for desired columns\n",
    "m_gdf.rename({\"name_0\": \"COUNTRY\",\n",
    "               \"iso\": \"CNTR_CODE\",\n",
    "               \"name_1\": \"REGION\"}, axis=1, inplace=True)\n",
    "m_gdf =m_gdf[[\"CNTR_CODE\", \"COUNTRY\", \"REGION\", \"geometry\"]].copy()\n",
    "m_gdf[\"LEVL_CODE\"] = 1\n",
    "m_gdf.head(2)"
   ]
  },
  {
   "cell_type": "code",
   "execution_count": null,
   "id": "8d6c7131",
   "metadata": {},
   "outputs": [],
   "source": [
    "# Load the Ukraine file from disk\n",
    "in_file = \"Ukraine/Ukraine_L1_Divisions-geojson.json\".replace(\"\\\\\",\"/\")\n",
    "u_gdf = gpd.read_file(in_file)\n",
    "print(f\"[INFO] CRS is {u_gdf.crs}\")\n",
    "u_gdf.to_crs(\"EPSG:4326\", inplace=True)\n",
    "u_gdf.head(2)"
   ]
  },
  {
   "cell_type": "code",
   "execution_count": null,
   "id": "69513b14",
   "metadata": {},
   "outputs": [],
   "source": [
    "# Select for desired columns\n",
    "u_gdf.rename({\"name_0\": \"COUNTRY\",\n",
    "               \"iso\": \"CNTR_CODE\",\n",
    "               \"name_1\": \"REGION\"}, axis=1, inplace=True)\n",
    "u_gdf = u_gdf[[\"CNTR_CODE\", \"COUNTRY\", \"REGION\", \"geometry\"]].copy()\n",
    "u_gdf[\"LEVL_CODE\"] = 1\n",
    "u_gdf.head(2)"
   ]
  },
  {
   "cell_type": "code",
   "execution_count": null,
   "id": "b92770c2",
   "metadata": {},
   "outputs": [],
   "source": [
    "# Load the Russia file from disk\n",
    "in_file = \"Russia/Russia_Oblasts.json\".replace(\"\\\\\",\"/\")\n",
    "r_gdf = gpd.read_file(in_file)\n",
    "print(f\"[INFO] CRS is {r_gdf.crs}\")\n",
    "r_gdf.to_crs(\"EPSG:4326\", inplace=True)\n",
    "r_gdf.head(2)"
   ]
  },
  {
   "cell_type": "code",
   "execution_count": null,
   "id": "37565ace",
   "metadata": {},
   "outputs": [],
   "source": [
    "# Select for desired columns and rows\n",
    "r_gdf.rename({\"GID_0\": \"CNTR_CODE\",\n",
    "               \"VARNAME_1\": \"REGION\"}, axis=1, inplace=True)\n",
    "r_gdf = r_gdf[[\"CNTR_CODE\", \"COUNTRY\", \"REGION\", \"geometry\"]].copy()\n",
    "r_gdf[\"LEVL_CODE\"] = 1\n",
    "r_gdf = r_gdf[r_gdf.REGION == \"KaliningradskayaOblast\"]\n",
    "r_gdf.head(2)"
   ]
  },
  {
   "cell_type": "code",
   "execution_count": null,
   "id": "6ad84b4b",
   "metadata": {},
   "outputs": [],
   "source": [
    "# Concatenate all regions\n",
    "df_list = [eu_gdf, bh_gdf, k_gdf, m_gdf, u_gdf, r_gdf]\n",
    "europe_regions = pd.concat(df_list, ignore_index=True)\n",
    "europe_regions_gdf = gpd.GeoDataFrame(europe_regions, geometry='geometry')\n",
    "europe_regions_gdf"
   ]
  },
  {
   "cell_type": "code",
   "execution_count": null,
   "id": "8753e656",
   "metadata": {},
   "outputs": [],
   "source": [
    "# Save the file to disk\n",
    "europe_regions.to_file(\"Europe_Regions.json\", driver=\"GeoJSON\")\n",
    "europe_regions.to_file(\"Europe_Regions.gpkg\", driver=\"GPKG\")"
   ]
  },
  {
   "cell_type": "code",
   "execution_count": null,
   "id": "35af6c57",
   "metadata": {},
   "outputs": [],
   "source": [
    "europe_regions.explore()"
   ]
  },
  {
   "cell_type": "code",
   "execution_count": null,
   "id": "e141b70c",
   "metadata": {},
   "outputs": [],
   "source": []
  }
 ],
 "metadata": {
  "kernelspec": {
   "display_name": "Python (floodmapper)",
   "language": "python",
   "name": "floodmapper"
  },
  "language_info": {
   "codemirror_mode": {
    "name": "ipython",
    "version": 3
   },
   "file_extension": ".py",
   "mimetype": "text/x-python",
   "name": "python",
   "nbconvert_exporter": "python",
   "pygments_lexer": "ipython3",
   "version": "3.9.16"
  }
 },
 "nbformat": 4,
 "nbformat_minor": 5
}
