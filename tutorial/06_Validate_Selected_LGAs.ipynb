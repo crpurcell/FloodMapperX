{
 "cells": [
  {
   "cell_type": "markdown",
   "id": "13e0fadc-9090-44fe-b1e8-4ccc8e66dd07",
   "metadata": {},
   "source": [
    "# Validation Workflow: EMSR586 Flooding\n",
    "\n",
    "Notebook to perform validation of the flood events in eastern Australia during June 2022. \n",
    "\n",
    "**Validation LGAs:** \n",
    "```\n",
    "Newcastle\n",
    "Maitland\n",
    "Cessnock\n",
    " ```"
   ]
  },
  {
   "cell_type": "code",
   "execution_count": 1,
   "id": "af1c5398-4318-46e0-bb7b-2f7ff38cf3c2",
   "metadata": {},
   "outputs": [],
   "source": [
    "# Necessary imports\n",
    "import os\n",
    "os.environ['USE_PYGEOS'] = '0'\n",
    "import gc\n",
    "from datetime import datetime\n",
    "from zoneinfo import ZoneInfo\n",
    "from dotenv import load_dotenv\n",
    "import geopandas as gpd\n",
    "import matplotlib.colors\n",
    "import ee\n",
    "from georeader.readers import ee_query\n",
    "import folium\n",
    "import geemap.foliumap as geemap\n",
    "import shapely\n",
    "from shapely.geometry import box\n",
    "\n",
    "from ml4floods.data import utils\n",
    "from ml4floods.visualization import plot_utils\n",
    "\n",
    "from db_utils import DB\n",
    "\n",
    "# Uncomment this to suppress deprecation warnings\n",
    "import warnings\n",
    "warnings.filterwarnings(\"ignore\", category=DeprecationWarning) \n",
    "from shapely.errors import ShapelyDeprecationWarning\n",
    "warnings.filterwarnings(\"ignore\", category=ShapelyDeprecationWarning) "
   ]
  },
  {
   "cell_type": "markdown",
   "id": "40bfce80",
   "metadata": {},
   "source": [
    "## Load environment and project details\n",
    "\n",
    "As with the other notebooks, we load credentials and project details from a hidden ```.env``` file."
   ]
  },
  {
   "cell_type": "code",
   "execution_count": 2,
   "id": "36c177f6",
   "metadata": {},
   "outputs": [
    {
     "name": "stdout",
     "output_type": "stream",
     "text": [
      "[INFO] Successfully loaded FloodMapper environment.\n"
     ]
    }
   ],
   "source": [
    "# Load environment variables (including path to credentials) from '.env' file\n",
    "env_file_path = \"../.env\"\n",
    "\n",
    "# Uncomment for alternative version for Windows (r\"\" indicates raw string)\n",
    "#env_file_path = r\"C:/Users/User/floodmapper/.env\"\n",
    "\n",
    "assert load_dotenv(dotenv_path=env_file_path) == True, \"[ERR] failed to load environment!\"\n",
    "assert \"GOOGLE_APPLICATION_CREDENTIALS\" in os.environ, \"[ERR] missing $GOOGLE_APPLICATION_CREDENTIAL!\"\n",
    "assert \"GS_USER_PROJECT\" in os.environ, \"[ERR] missing $GS_USER_PROJECT!\"\n",
    "key_file_path = os.environ[\"GOOGLE_APPLICATION_CREDENTIALS\"]\n",
    "assert os.path.exists(key_file_path), f\"[ERR] Google credential key file does not exist: \\n{key_file_path} \"\n",
    "assert \"ML4FLOODS_BASE_DIR\" in os.environ, \"[ERR] missing $ML4FLOODS_BASE_DIR!\"\n",
    "base_path = os.environ[\"ML4FLOODS_BASE_DIR\"]\n",
    "assert os.path.exists(base_path), f\"[ERR] base path does not exist: \\n{base_path} \"\n",
<<<<<<< HEAD
    "bucket_name = os.environ[\"BUCKET_URI\"]\n",
    "assert bucket_name is not None and bucket_name != \"\", f\"Bucket name not defined {bucket_name}\"\n",
    "\n",
=======
>>>>>>> main
    "print(\"[INFO] Successfully loaded FloodMapper environment.\")"
   ]
  },
  {
   "cell_type": "code",
<<<<<<< HEAD
   "execution_count": null,
   "id": "f74f609f",
=======
   "execution_count": 3,
   "id": "400c8bf0",
>>>>>>> main
   "metadata": {},
   "outputs": [],
   "source": [
    "# Connect to the database (point to the .env file for credentials)\n",
    "db_conn = DB(env_file_path)"
   ]
  },
  {
   "cell_type": "code",
   "execution_count": 4,
   "id": "4d91dc02",
   "metadata": {},
   "outputs": [],
   "source": [
    "# Initialise the Google Earth Engine connection.\n",
    "# Follow instructions on login prompt, if required.\n",
    "ee.Initialize()"
   ]
  },
  {
   "cell_type": "markdown",
   "id": "39922e40",
   "metadata": {},
   "source": [
    "## Retrieve the session parameters from the database\n",
    "\n",
    "Edit the following cell to set the session name and retrieve the flood map parameters, including mapping grid and affected LGAs."
   ]
  },
  {
   "cell_type": "code",
   "execution_count": null,
   "id": "0605733b",
   "metadata": {},
   "outputs": [],
   "source": [
    "# EDIT THIS CELL: All work is conducted under a unique session name\n",
    "session_name = \"EMSR586\""
   ]
  },
  {
   "cell_type": "code",
   "execution_count": 5,
   "id": "0c232acb-cd0b-4f41-b61e-de5e788b99d0",
   "metadata": {},
   "outputs": [],
   "source": [
    "tz = ZoneInfo(\"UTC\")\n",
    "midnight = datetime.min.time()\n",
    "\n",
    "# Query the floodmapping parameters from the DB\n",
    "query = (f\"SELECT flood_date_start, flood_date_end, \"\n",
    "         f\"ref_date_start, ref_date_end, bucket_uri \"\n",
    "         f\"FROM session_info \"\n",
    "         f\"WHERE session = %s;\")\n",
    "data = (session_name,)\n",
    "session_df = db_conn.run_query(query, data, fetch=True)\n",
    "flood_start_date = session_df.iloc[0][\"flood_date_start\"]\n",
    "flood_start_date = datetime.combine(flood_start_date, midnight).replace(tzinfo=tz)\n",
    "flood_end_date = session_df.iloc[0][\"flood_date_end\"]\n",
    "flood_end_date = datetime.combine(flood_end_date, midnight).replace(tzinfo=tz)\n",
    "ref_start_date = session_df.iloc[0][\"ref_date_start\"]\n",
    "ref_start_date = datetime.combine(ref_start_date, midnight).replace(tzinfo=tz)\n",
    "ref_end_date = session_df.iloc[0][\"ref_date_end\"]\n",
    "ref_end_date = datetime.combine(ref_end_date, midnight).replace(tzinfo=tz)\n",
    "bucket_uri = session_df.iloc[0][\"bucket_uri\"]\n",
    "\n",
    "# Query the selected grid positions and LGAs\n",
    "query = (f\"SELECT sp.patch_name, ST_AsText(gr.geometry), gr.lga_name22 \"\n",
    "         f\"FROM session_patches sp \"\n",
    "         f\"INNER JOIN grid_loc gr \"\n",
    "         f\"ON sp.patch_name = gr.patch_name \"\n",
    "         f\"WHERE sp.session = %s ;\")\n",
    "data = (session_name,)\n",
    "grid_sel_df = db_conn.run_query(query, data, fetch=True)\n",
    "\n",
<<<<<<< HEAD
    "# Format the results into a correct GeoDataFrame\n",
    "grid_sel_df['geometry'] = gpd.GeoSeries.from_wkt(grid_sel_df['st_astext'])\n",
    "grid_sel_df.drop(['st_astext'], axis=1, inplace = True)\n",
    "grid_sel_gdf = gpd.GeoDataFrame(grid_sel_df, geometry='geometry', crs=\"EPSG:4326\")\n",
    "grid_sel_gdf.drop_duplicates(subset=[\"patch_name\"], inplace=True)\n",
    "print(f\"[INFO] {len(grid_sel_gdf)} grid patches selected.\")\n",
    "\n",
    "# Query the affected LGA shapes\n",
    "lgas_sel_lst = grid_sel_df.lga_name22.unique().tolist()\n",
    "query = (f\"SELECT DISTINCT lga_name22, ST_AsText(geometry_col) \"\n",
    "         f\"FROM lgas_info \"\n",
    "         f\"WHERE lga_name22 IN %s ;\")\n",
    "data = (tuple(lgas_sel_lst),)\n",
    "lgas_sel_df = db_conn.run_query(query, data, fetch=True)\n",
    "\n",
    "# Format the results into a correct GeoDataFrame\n",
    "lgas_sel_df['geometry'] = gpd.GeoSeries.from_wkt(lgas_sel_df['st_astext'])\n",
    "lgas_sel_df.drop(['st_astext'], axis=1, inplace = True)\n",
    "lgas_sel_gdf = gpd.GeoDataFrame(lgas_sel_df, geometry='geometry', crs=\"EPSG:4326\")\n",
    "print(f\"[INFO] {len(lgas_sel_gdf)} LGAs affected.\")"
=======
    "# List of LGAs to check\n",
    "lga_req_list = [\"Newcastle\", \"Maitland\", \"Cessnock\"]\n",
    "\n",
    "# Bucket Name\n",
    "bucket_name = \"gs://floodmapper-demo\""
>>>>>>> main
   ]
  },
  {
   "cell_type": "markdown",
   "id": "f6ca080f",
   "metadata": {},
   "source": [
<<<<<<< HEAD
    "## Plot the mapping grid and overlapping LGAs \n",
=======
    "## Parse dates, load the grid and LGA shapes"
   ]
  },
  {
   "cell_type": "code",
   "execution_count": 6,
   "id": "85f642a2",
   "metadata": {},
   "outputs": [
    {
     "name": "stdout",
     "output_type": "stream",
     "text": [
      "Pre-flood search period: \n",
      "2022-06-10 00:00:00+10:00 to \n",
      "2022-06-20 00:00:00+10:00\n",
      "\n",
      "Flood search period: \n",
      "2022-07-01 00:00:00+10:00 to \n",
      "2022-07-24 00:00:00+10:00\n"
     ]
    }
   ],
   "source": [
    "# First parse the pre- and post-flood dates\n",
    "tz = ZoneInfo(\"Australia/Sydney\")\n",
    "date_event = datetime.strptime(date_flood_start,\"%Y-%m-%d\").replace(tzinfo=tz)\n",
    "period_pre_flood_start = datetime.strptime(date_pre_flood_start,\"%Y-%m-%d\").replace(tzinfo=tz)\n",
    "period_pre_flood_end = datetime.strptime(date_pre_flood_end,\"%Y-%m-%d\").replace(tzinfo=tz)\n",
    "period_flood_start = datetime.strptime(date_flood_start,\"%Y-%m-%d\").replace(tzinfo=tz)\n",
    "period_flood_end = datetime.strptime(date_flood_end,\"%Y-%m-%d\").replace(tzinfo=tz)\n",
>>>>>>> main
    "\n",
    "Use this map as an aid to choose which LGA to validate. Display LGA names by hovering the mouse cursor over the map."
   ]
  },
  {
   "cell_type": "code",
<<<<<<< HEAD
   "execution_count": null,
   "id": "ef7eabac",
=======
   "execution_count": 7,
   "id": "b8f91c46",
>>>>>>> main
   "metadata": {},
   "outputs": [
    {
     "name": "stdout",
     "output_type": "stream",
     "text": [
      "gs://floodmapper-demo/0_DEV/1_Staging/operational/grid_australia.geojson\n"
     ]
    },
    {
     "data": {
      "text/plain": [
       "<Axes: >"
      ]
     },
     "execution_count": 7,
     "metadata": {},
     "output_type": "execute_result"
    },
    {
     "data": {
      "image/png": "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",
      "text/plain": [
       "<Figure size 640x480 with 1 Axes>"
      ]
     },
     "metadata": {},
     "output_type": "display_data"
    }
   ],
   "source": [
<<<<<<< HEAD
    "# Overplot the LGAs on the selected mapping grid\n",
    "m = grid_sel_gdf.explore(style_kwds={\"fillOpacity\": 0.00}, color=\"red\", \n",
    "                         name=\"Grid Patches\", highlight=False)\n",
    "lgas_sel_gdf.explore(m=m, style_kwds={\"fillOpacity\": 0.01}, name=\"LGAs\")\n",
    "folium.LayerControl(collapsed=False).add_to(m)\n",
    "m"
=======
    "# The sampling grid is stored in a GeoJSON file under the session name\n",
    "path_to_aois = f\"{bucket_name}/0_DEV/1_Staging/operational/grid_australia.geojson\"\n",
    "print(path_to_aois)\n",
    "grid_fs = utils.get_filesystem(path_to_aois)\n",
    "grid_df = gpd.read_file(path_to_aois).to_crs('epsg:4326')\n",
    "grid_df.plot()"
   ]
  },
  {
   "cell_type": "code",
   "execution_count": 8,
   "id": "7de1d0ef",
   "metadata": {},
   "outputs": [
    {
     "data": {
      "text/plain": [
       "<Axes: >"
      ]
     },
     "execution_count": 8,
     "metadata": {},
     "output_type": "execute_result"
    },
    {
     "data": {
      "image/png": "iVBORw0KGgoAAAANSUhEUgAAAi4AAAE4CAYAAAB8LXjEAAAAOXRFWHRTb2Z0d2FyZQBNYXRwbG90bGliIHZlcnNpb24zLjcuMSwgaHR0cHM6Ly9tYXRwbG90bGliLm9yZy/bCgiHAAAACXBIWXMAAA9hAAAPYQGoP6dpAACoaElEQVR4nOz9d5wkd33njz+rqqtznpx7Nueg3Z3VEmwJbCHAYIwN1nEmfA/BwVnn+xq4L+bwEX+y7C/CZx98DU4n+3zGGIwTYGORQSBp82pznJxnOufqqvr90T090zM9cWd2Z3c+zwcjdqqrq6p7qrte9Q6vt2SapolAIBAIBALBPYB8tw9AIBAIBAKBYKkI4SIQCAQCgeCeQQgXgUAgEAgE9wxCuAgEAoFAILhnEMJFIBAIBALBPYMQLgKBQCAQCO4ZhHARCAQCgUBwz2C52wdwuxiGwdDQEB6PB0mS7vbhCAQCgUAgWAKmaZJIJGhubkaWlx5HueeFy9DQEG1tbXf7MAQCgUAgEKyA/v5+Wltbl7z+PS9cPB4PUHzhXq/3Lh+NQCAQCASCpRCPx2lraytfx5fKPS9cptJDXq9XCBeBQCAQCO4xllvmIYpzBQKBQCAQ3DMI4SIQCAQCgeCeQQgXgUAgEAgE9wxCuAgEAoFAILhnEMJFIBAIBALBPYMQLgKBQCAQCO4ZhHARCAQCgUBwzyCEi0AgEAgEgnsGIVwEAoFAIBDcMwjhIhAIBOuMWCJJOqctaV3TNNf4aASC9YUQLgKBQLDeUFS6J9MAZDWd3onkvKsu1y5dILjXuednFQkEAsH9gGmaZRHic9rwOW0AxDJ5MgVj3vVnPk8g2AisacTlySef5GUvexlOpxO/3191nb6+Pt7whjfgcrmora3lN37jN8jn82t5WAKBQLDuSecLADR4HexorBwgO5Ue0nUdTRepIsHGYk2FSz6f5y1veQvvf//7qz6u6zqvf/3rSaVSPPfcc3z5y1/ma1/7Gh/84AfX8rAEAoFg3TE7auK0FgPiBX062mKaJqZpomlFUaMoClaLyPgLNhZrmir65Cc/CcBf/MVfVH382Wef5dKlS/T399Pc3AzAZz/7Wd71rnfx5JNP4vV65zwnl8uRy+XKv8fj8dU/cIFAILiDzE735PN5ZFnBYlGwKDK6bqAZJnZVKa1b+fy8VsCqisy/YGNwV6X6888/z549e8qiBeA1r3kNuVyOU6dOVX3OU089hc/nK/+0tbXdqcMVCASCNWF2tGUikSeTnb5BUxQZ0yxGqYu/KxXPEaJFsJG4q8JlZGSEhoaGimWBQACr1crIyEjV53zkIx8hFouVf/r7++/EoQoEAsEd4/JwlE9/6zqaVsAwDEzTRDYLZcEiinEFG5llC5dPfOIT5Q/OfD8nT55c8vaqfQAXqpK32Wx4vd6KH4FAILif6OoM8qk37kaWZWRZRpIkrFZr+XEhXAQbmWXHF5944gkee+yxBdcJhUJL2lZjYyMvvvhixbJIJIKmaXMiMYLVJV8w+NuT/bz9wY67fSgCgWAWLocDSZpKDRXvL4VYEQiKLFu41NbWUltbuyo7P3bsGE8++STDw8M0NTUBxYJdm83GoUOHVmUfgupYLTKv39t0tw9DIBDMwjRNRuNZfnR1jLccaSOdyaGqFlSLIjxbBALWuKuor6+PcDhMX18fuq5z9uxZALZs2YLb7eaRRx5h165dvP3tb+czn/kM4XCYD33oQ7znPe8RKaA7QNBlXXwlgUBwR5EkiRvjSYIuK18/3UNOl3hLV6j8mECw0VnT4tyPfexjHDx4kI9//OMkk0kOHjzIwYMHyzUwiqLwzW9+E7vdzstf/nLe+ta38qY3vYmnn356LQ9LIBDcw2yE2TyH2/3Uee380/lxcoZEOle424ckEKwbJPMe/xaIx+P4fD5isZiI0ggE9yGDkTTZgkGbz4GOicO6doHiiUSWWo99zba/VH5yY4L/+L9P8kBHgKymc3RTgA8+shPDMJBlYTgnuD9Y6fVbNP8LBII7xvXRBFsbPBXL4lkNh6qgKnL593P9Ubx2C6PxHCaQ03Q21brIr2HkIVfQGVsnwsVpVXDYLNwcTzEYzTAQyfDBR3ZuiGiTQLAYQroLBII7Qn84zWefvcbfn+6noBuc6Anz7MUR3v7nx3n8L0+S1XRM0+SbLw3zoa+e48XuMP/tH87zLy8N47Wr6LpBwVi7C/dPb07SWeNas+0vh97JNOOJHIPRDADxbIHBSEpEWwQCRMRFIBDcATJ5nXc+c5z9LT6e/OYVvnVhlGcvjVas83enBvi1Bzv4d13t6IbJXz3fy89uq+fWRJIb40nGE1m+eWGEP3n7YawWmdF4lgbv6kRH4pk8dW4bDpu6Ktu7XW6MJSt+T+YKTCTz1LutqOr6OEaB4G4hhItAIFhzbBaJVK5AKq8zmcrz7cuVomVHo4fX7mks//7YkTZesSlIvc9BIqvx8//jR6TyOrph8nenBnjb0Xb6w+nbEi6maZLOFrg6lsBjV9nT4lvxtlabf7kwPGdZvqDPK1pEm7RgIyHijgKBYE0xTZNPfeMyTquFH10f55FdDagzUh7bGzz86TsOU+O2lZdZFJlQvQenzYJuQkvAiV5KE/3RD27wxz+8idOqkNV0bo0nOd0XWfAYdMOsqA8xTZMXbk0Sz+XZXOdha4OHSCqPaZrl/dwthqIZbo2n5iyPpAvkcrmqdS5CtAg2EiLisgCGYSLL4gtBILhd3vxAC7/12h2EU3ki6TwffGQbf/jd69R77PzWa3dgV5V5n9vsd/CLB5q5PFycBD8QyfDUv17hd78Fe1t8XByK87tv3stkMs9D22pRLcVtTUUhCrqBYYJimRZLFwbj1HlsNHidyLJE90QSv13BMFWUu/yZ//asFNoU5wdjHO4IgKxjkYvjVUTNi2AjItqhF0CEXwWCtUM3TAajKZp9TkwodxVV47PPXuVz37ux6DY/9Mg2jm6qYVuDhz/98S1etilAS8BJs9+JqshoBZ3Pf/8mLpvCO46FSGTyXBiK8cNrk/zyA63saSl+h9ytz/310QTPXhrhf/+0l9FEbs7jkgT/32P7eXRvsxAtgnse0Q69BkTjSWKxKKH2trt9KALBfYciSzx3bZwmv4uAS+VAW6Di8aymc30swXcujfFXL/QuaZt/9IObPP3stfLvFwbqeN/PbqY96OL3vnWFb18axWu38IePHeQHV0bZ3ezmmZ/08qPrE8V95uvZ1ezHZb87BbDP/KSHgUiaieRc0QLQFnDymr0tIhIs2NAI4bIAAZ+HgM+z+IoCgWDZRNN5nrsZ5sXuGzT57Lxyax2GafKjaxO8bk8j3748yqWhOIZpstSyk3Rer/j9xe5Jzg/G6Kx1cWsiRTiVx2O38N6/OoWqSPzFu47wp+88zOFPf4e/Od7H1eEoTX4Xn33r/jsedYlnNW6MJTjeE+Hlm2s42RsmV6h84Y1eO/mCjlWRUJT502sCwf2MEC4CgeCO8v2rY4zHc5wfiPKDK2OkNYM6t40v/OBmeZ1UrsBoPHPbvi2mCZOpPJOpfHlZIlvg8nCcUI2T4z1hrowkSJSM7W5OZHjjwbsTYf3BldFy4e1EMs+Weg/d40nSmlFe53hPmNf+4Y/5/oceEi66gg2LOOsFAsEdo38izuneCF891Y/bKmMpFcx67NP3UI0+O0PR9Jxow0rwOuZP+fRMpnnf/znNH3znennZO18W4t91td+VGheX1cLP7axnc62doMvKxaE4mmGyu3k66tvqd6AqEn/+XDeGYSywNYHg/kUIF4FAcMd4/5fO0jOe5OJQnDMDceKZAg5VpncyXV5nJJbFs0o1JjMF0UJIEuxv9fGWQ62rst+V8OpdjbQFXKSzGqZp4rEpeOwqfaX3pi3owKbKBF02fnp9DItFBMwFGxMhXAQCwZpjGCbpfIGb42m+fn6EdF7HapE5EgrQ1VnD2KwOmtAqWe8HXVaafIub1DlVhU+8YTe1buuq7HclRFJ5/uHsIH63k0RWI5HTCafyJHLFuh2/Q+XmeIrxRJaAXeHFmxNidpFgQyKEi0AgWHN+cG2MV/7e98lo08Wz2YLBiZ4I3RPJOeufH4ytyn5P90XZWu9ecB1JAt00eb57Erh73Tof/+eLxLMFLo8kcNjmRlOMkki5NZHmay+NcW0sia7rc9YTCO53RKxRIBCsKZpuEE1rFQWyUPJJAhq8dvrCmfJyn0Ol3mPj+thcQeN3qmxv8DAzzlBNapil5fmCQa4wfy1IZ62LvS0+esNpHt5ef1fbjLc1uBmNZ4Hqr+nKcIKjnUE03eB0X5SCYYp0kWBDIs56gUCwpqiKzBv3N/O9K2N846XpGTw3x1McCQVI5XUOhwJoJYGR0XSGotmq2/LYLLzYHV7W/o92Bqsu//Cj2zkSChKqdXF1JM7OptU1sFwur9nTyA+ujQPVDfB0E17sDuOxWzjY5ic8SwgKBBsFIVwEAsGaks4XGI5luTISx22zkCy1HnvtFlIl35VMXieazjNYEixHQgFO9BTnD3V1Bsu1HAXDpD+SqbKX5XGgzceRUBCrImFTJF6+pe62t3m7/PmPuznXHwWKNUHzkcgWUC0yF4diwt1bsCERwkUgEKwZp3ojPPUvl7k0HCed1zm2KchoPEfQZWU8keXScJwH2gOc6o3Q7LMTqnHSM5nmxliS3c1eLg3HwaQsYm6X1oADWZK4NZ7iUEeAZK6AVZHKc8mmBNKdFgOD0Qx/e7KfqVrbodjC4ux4d5gdjcIcU7AxEcJFINjgGIaBJEnli3VBNwgns9T7nLe97edvTnCyd1p0GCbcmkhxa2J6+vGUWPDYVa6OJgCIpDUiaY0jocCq1svWuKycGygW/v7T2SE21Tk52xfhDftaeOHaED6Pkx1NPoLuxTuRVpOLg7GyaDnY7udMX3TR5+xq8mIYhnDQFWw4RFeRQLDBMU3Ia8VUzWg4zu9/+xoPffZHnOqZRCvot9Vy+70rY0ted6YJ7M4mD3uavWTyOkOrkBqqxu9/+xo+u8qORg8nesJ84acD/K+f9vPspaUf82pxY3y6EHmhYZMzmeq8Ei3Rgo2GEC4CwQakoBcLYU/1TPI/v3eDcDrLT6+PYVNV8rkc2bzOb/zNGV77hz/mE/98cdnbN02TiWSOaFpbdN2pC7V3humcy2bhwlCcC0NxBqK3J1z0eepFHn9lJx21bro21XFpJMFLA3HCqRy/euTOW/7vafYxlZ1KZgtLes71sSQ/vjFZ4aArRIxgIyCEi0CwwdB1nclwlEJBp8nvxG2V+Palcb5yeojTA3G+fHoEAxiM5bgxnuJLL/bxP/7t0oIFo7P59qVRXveHP65ICc3HzfEkrQFHRZfMan4xneyNcLDNj9tWmVI52llT/rel1Ab987saGI1Xn8y8lvzMtjpeuaV4PMYyxMe/nB9GURRM00Qr6IxG04yFV8cDRyBYr4gaF4Fgg1DQDRKJBLLVwQ9uTPKLB50k0ln+6sV+NN1kOJblZE+k3PUzhWaY/OH3u6nzOvm1Y6FF96MbJk/+y+U5brjzMZHM41Sn5xZtb/QwEE3jsCpk8qtjsHamP0q9x4ZNLYqX3/2lPWxrKBrTabrBG/Y3o8gyE4ksf/qjm3z09Tvv+ADDeo+DLfVulGV4yVwdSZSHLY7Gc5zvj/K/nu/lE2/cza5Se7foOhLcbwjhIhDc5xiGQTqbp2dgiJa6AJFYgtF4jgIKp3ojFeZvs0XLTD777Ws8tK2W1pqFnWjHEtl5PUb6wmn2tfp4aaAyKpDWDNAMjoQCnO2PoukmbQEH/joVh6pwYzx1274lY4kcY4kcr9vbyK92tZcLW1VFpqPGxfsf2gwUI1J3WrSkcgX+8ewgDlVh+zK6hV4ajHFuIMbeFh9/8N3r/N2pAQC+d3mUnY1eCgUNq/XujTEQCNaCNRUuTz75JN/85jc5e/YsVquVaDQ6Z51qdwNf+MIXeN/73reWhyYQbBhyuRz9k0n+4dwY9d4YN+Pwo+thNEnl1nhiyduJpDX+85fP8fu/eoDO2vlnCTX5HHzp8Qf5w+9e48XuMIkZNRvDseyCURQJ0PRiqqQ/kil7tuxo9KyK4ZrHZuGjr9uJJEnzduPcjS4dwzTRTZNErkBvOL34E0qYJvzyF36K02qpEJ3/dG6Yg+1+djU4CQrhIrjPWNPbinw+z1ve8hbe//73L7jeM888w/DwcPnnne9851oelkCwoXA4HNQ4FXQknv7RMF85NcRoIssf/+gW37q4vA6aM/1R3vLF53lpIEq+5HRbrSB0b6uPjhpXhWiZYqEKju7JNF2hwJzlXsftT4uWJPj1V22hJXD7bd6rjceuEnQWBcZ4IkfQufTXa5hzI2U3xpL82p+f4JkXBtF1nVwuRzKTE8W7gvuCNY24fPKTnwTgL/7iLxZcz+/309jYuJaHIhBsSHS92M7sdbuxKnIpwmkWW6AXmOGzEBPJYu3KSDTN//2Vl2gJOHhkZz372vw0+RycH4zSHnTR7LPz9gc7ON0XwTRNspqBw6rgXsC2fzyRw2mdG/GY6oK6HUwT3vxAC4ZhMhDJ0F6zvgTM5no3k6X3ZXO9m/AqmO79f9+/QSav886XhWjx31lvGoFgrVgXNS5PPPEEjz/+OJ2dnbz73e/mve9977w55lwuRy43XfQXj8fv1GEKBPcUmUyGcDxN92iExvpaDjRa2dPs5Wx/lGU0CM2hxe/AqSr8v89e49ZEktN9Eb5+boijnUF+flcDv//ta/zigWaymsE/nBlcvRe0CvzBd67ziV/YRVvQcbcPZQ5vPtjC8ZJwKdzOH2gGhgnfvzrGSwMx/vL/OozDdvuRK4HgbnPXhcunP/1pXv3qV+NwOPjud7/LBz/4QSYmJvjt3/7tqus/9dRT5UiOQCCYy8z5NXUBD891R/ni1y8TClh5ecjL+cEYhr7yC2NbwMEXfniTb54fZnbm4YdXxygYJn9zvJ837m9a0faHY1k6a100ee3opR1MTU2+Xb70Yh/fvjTK7715L6/a2bAq21wtdMPkgXY/FllmiR50S0JVZF65tQaLML8Q3CcsW7h84hOfWFQ4nDhxgsOHDy9pezMFyoEDBwD41Kc+Na9w+chHPsIHPvCB8u/xeJy2tjtvGCUQrFcmYileuHgDn8dDSpc5cWuCSCrPczeXN1V5PjTdYHyeVuef3JwsR3P++dxw1XUWI18w6J5IEctoazIBeTyR4z/85Un+y6u38p9ftQXLaqqE2+Avn+/h2mjRQfehbZVDH1VFKhctLxdFlrg+lsKQ1sfrFAhul2ULlyeeeILHHntswXVCodBKj4cHH3yQeDzO6OgoDQ1z74hsNhs2m23F2xcI7nf0fIZaj4O/PdHD1YQKmPxaVyu//fUrcyIkK8GiyLzQHcapKuXpzlOsUobjjvCH373OD66N87tv3svOkufJ3aJ3MlUWLTsaPTx3Y5wjoQATyTzRdJ5EVqPFby9Pz14OLpuFzlonNouYaSS4P1i2cKmtraW2tnYtjgWAM2fOYLfb8fv9a7YPgeBeRyvoqPNciBrr63ixP82lmMLNiSS6YfIH37uFx2YhvkQ7+YW4NBQnXzDQl2GUtl451x/lfz3XzWfesp+vnx3g5Vtq6B1PsKu1pmxWdyd49uIIXZ1BdMNEkSUKxtyJ2C0B54qEy/GSyJyZQhQI7mXWtMalr6+PcDhMX18fuq5z9uxZALZs2YLb7ebrX/86IyMjHDt2DIfDwfe//30++tGP8t73vldEVQSCBZhPtExxbiDGtbFpu/3xZDHlIkncdtQlUWq9nW8G0L3GV08N0D2R4rGuNv7uZD9HOgL87r9c4uO/uPeOHcOPrk+UC3OrsbXezbn+6Iq3f6InTCyTx+8U36uCe581FS4f+9jH+Mu//Mvy7wcPHgTg+9//Pg899BCqqvJHf/RHfOADH8AwDDZt2sSnPvUpfv3Xf30tD0sguK8oFAooilJxN+11WDm2KUgsrXFpZNpk7p6y8biDx3qyN8LJ3ghffs9RdjT7uBVem4nU8zG0yCBJp1Uht8L2dYBUXmc0nhPCRXBfIJn3uCNRPB7H5/MRi8Xweu9unloguNPk8xq6YeCw2zBNk0KhwGgsyeRklK9fifHjWzF8TitDkQxNfjvxTOW05khaW/JMocU42hmc159lJQSdKuElTJdeTVr8DhRZIuBU+a3X7uTY5prFn3SbFHSDfZ98lvQ8jsJBl5WMpq94btORUIB8weAN+5t4/JWbb+dQBYJVZaXX77veDi0QCFbGte5eesfDtDc1o5sS25qDjMfTtNYGCGdMVFuOq6PTPioDVe7quzqDqyZcVps6j50mvwOnVZlT77FWDJbeo74w/Ps/e4FPv2kPb9zfjMe+dv4niizR6LNza7z6JO1cvsDRzhriWQ211AE1Gs8ScFqRZYlUroDVItM9kZrjVKzKEgXD5FxpNpQQLoL7ASFcBIJ7jKkgaVNtkO7hCd7/5UscbVE5sqkWt81GrcfBn/yom3+5MHKXj/T2uDpaTHF13CWHW8OEj/7DBf77P17gdXub+P23HsC6iBnK1KTm5fD8zcl5RQvArhYfP7g2Pmd5z2TlTKND7QEuDBUHVLqsCn6XFUwTrZRiMkxTFOgK7gtEY79AcA+R1Qr83cleTl2+Sa5g0BTw8Mv7avjX62m+dHqC9/7tJf7x9ABOq8KvP7SFfS0+alwLDNm7pxPFdwbDhG+8NMwXf3hz0XVlWSae1fjOpVEKhaWldn5YRZRUbHOJQuNUXwS7aqE14CSnm2TyOppeHFZZ77Hxqh0NGMbtj04QCO42IuIiENxD/M3xfqyKzOFdWxiaiNCTkDg7nCWa0TjZV0wHfPifLlPjsjKRXNy8LZW//fbotcapKgRdVmIZbdmdTHtbfFhkiTO30ZEzxe9/+xoNHhu/2tVe9XHTNPmtr53nXy8M896f2USz387OJu+iEY5LwwuPLdGWMacpltGIleqYZv79dzZ5uDAYQzPgLgy/FghWFRFxEQjuETJ5nf/3W1f52ukBxhM5mmr87Gz2zTGBM02WJFqgaE62vcFDV2eQA21+Wvzrb4ZPfyRNOJWnPbj0lNGhjgCHOgKk84VVES1T/P2ZQf7gO9fmTGMGuDWe4sXuST7wc1t54lVb2dXsI68tLAx7JlL8+PrEgutktduPklweTnBuIMqf/vgWur6yIl+BYL0gIi4CwTrFMAxM00RRFF64NckzP+lGkSVO90X5zqUR/t3RDra21vPM/1XDa//njxlP5OYUZy7GbO+Qg21+3DaFaEZjNF4s2m322emscxHPaJwfvHtDTb12C0dCAW6Op8rRF5tFxmWzMLM5UpYkTvUuXMy7uc7FrYnUitrD/+A71/n8925wdFMQl9XCO46FeNnmIA7F4PsfeqgiwmKzzl/Uqxsm7//r04vuL71KUbGJZJ7/8e1r+Bwqb+tqR5ElUe8iuCcRwkUgWKfIsoxhGFwfTfB3J/v5t4uj5cf+4cwQv/RAK3ZVoWCY/PbrdvKf/+bMbe9zKjpxtDNYFi5tQSeZvI51hund1no3ed2g3mNDkqTS42sbwJ3qjAHYVFsUHvtb/RzvWV4L9qGOAMlsgU21Lm4uUBS7EAXD5Cc3JgF49tIoB9v8fPR1O6n1GsgSFEywL+K8+8Uf3uTyImkiWSq2rK8WFkXm89+7Tt9Eig+/dseiRoYCwXpECBeBYB0TTWu8438dZzhWafV+vCfMP58d5K1H2vng356hrcY1J2V0O6TyBQ53BJi6IR+KZlBkma7OAPGMxlg8Rzit0Tujs+VoZ3DV9r8YtW4bTpuCucTq4r0tvvK/R+NZBiIZat0LFC0vk/ODUT7//Rt88e2HONEdxjBNXrmtfsHnfOfy6IKPA2xr8HBlhoHg7RCqcVLnsXGiJ0K2YKyb4ZICwXIRwkUgWMf80Q9vzhEtrX4HLQEH3748ymt21tEScPLVU8VOovlMzJbLhVJKaF+Lj3hWI18wqPdaOdsXJb/CKcWryXKjLOcHY3OWtQWd5DSjPMLgdigY8EL3JFlN5+Vb6xZdP6vpi0ZbAMbiWbz21Zkx1eC182J3mK7OIH9zvI//8qrN1PnuTqu5QHA7CMktEKxjvnt5bM4y3TTpnUzz7Utj/NlPujnREyGa1m5btDjVyq+Dg+1+8rpBz2SacFrDNLmjoqXBY8MiQzK3NsWkZ/qitARWrxg5qxm885kTPPOTbnKLtEK/NBCbU3Rb57bRWevicEcAgMOhALIsrYpoafHbCaeKBdtXhuMossTfnx2+7e0KBHcDEXERCNYx1QozrYpMwGVlJJ7lj3/ce9udQG0BBy6bhXAqz+4WJ1lNxyJL9E2mmUxNdydNGcLdKQqGyW2M51kS/eE0Xkfl1+DWOg8zPeQkpHkjPF2hILpp0j2RIpzKc64/yrn+KN+5PMp/e91OdjR6UWZN0f76uSE+8c8XK5Z11rronUyhKBJn+6McaPPhd6h4HWpFh9iORg8OtRhZW+rfY2uDG61gcH0sCcDmOjdI8OKtSf7jzwonXcG9hxAuAsE65mhnDf98bqhiWaPPXp4JlC8YdE+srMB0iv5IhlCNk7FEbl3Z/zf57BXCaS2oVhd0qm9uR1Ko5N47W4RkNJ3zgzE217nKEQ2An9yY5O1/fpztDR6+8GsPMJHMcXEozldPDvDcjcr2Z1Up2vYbJoyU0oJn+2N0hYLkCwZdnQFME8YTuYp6l/1tPmRJQlVk+ibTjMQrU4pQFDo3x5NopUiZLEE4lac3nMZmkYmlMvhc668FXiBYCCFcBIJ1TJPPPmdZtqDTHnTSF05XecbK6JlMc6g9QF43qtaD3Cl2NXlwqMWvpcnU+hFRU/b6Dd7Kv4decqLNVfFaafbbef7WJAc+9e0Ft32gzc/l4bnRk+F4hslknoFI9cnR5/qn/05HQoGqwsVtt5RFC8CWejfXRpPl1+K2r16BskBwpxA1LgLBOqajxjUnFXSuP0ZjFUFzu5zqi+C0rk17bHvQSVdnkKOdwXINRzVkSeJUX4RTfZE5s3jWI+m8ztHOINkqNS2TyTxLsUnpm0xjV+d+FfeHM0iYS+p+OtETKZsIzgwKXRyqLADunkgRLI2ACDhVsveAc7JAMBsRcREI1jFvO9pOJJ3nM/92tWL5atuG7W724lAVUqvQYVONOo+tbHbX6LWtyT7uBj2T6XkF1nAsS1vAQf88EROA/a0+MprOjVL9yWzSmsHuFteSnJCn3t+WUtdZ93iKWLbSA0aSJNSSsnnb0XZURULXdRQxB0BwDyEiLgLBOuYL37/O//zu9TnLTVhVHxK3zcLJ3ggXhu6eM+69gEWR2N3sXfL6TYsUTiuyxLXRJPONYPLYLeXW9KUyGM1wvDtMk89OflZ1c75g4ChF1QzD5AfXJyksc/6TQHC3EREXgWAdYhgmn/rGJf7ipz1VHz/eHWZfq2/JM4nmY1OtC79TpXAH25wnk3m21rvnLJckyOsG2xrcBJzWcgHyeqKgmxWme4thLDJT4Fx/dMF6pWS2QIPPTia2vJbwJp+9LFCCLpX2oJOzpZqYGpcVj93CP58bwipLNHjt7G+bP30nEKw3hHARCNYZFwcivP9LZxctvh1P5DgSCnCiZ+G5PAtROyOFc6fQDLPcmjsfD7T778zBrAC33VJ1yGI1qhXtzkQ3od5jm/dvbVI0q9vX6uOlgaUXTfscKpeG43R1Bgmn8gxFswRdVpp9dhRJ4vJwAptF5mhnkLRmoBV0Yf8vuGcQwkUgWEdousHV0cSSOoaGY1naljExuRoTydXr3LHIEjsaPVUfm91GfC/jmlXA7LFbqg63rPfYluS1kswV6KhxMpnMVxVE0bRGNB1jV5OHS1W6j6oRSedpqCJKw6k8qiwhyxKpvM73ro7z+M9sYiSWpcnvEGMABPcEQrgIBOuIkWiGD3z1/JLXT96mq2o8oy1aQLpUCoa5anN11mvVhQnEMhqHQwGGo1kkiq97R6OHi4Mx0jMiLA5VZiyxuIPe1HvW5LMtGMnx2OefND2b0XiOjpALqgyRdNstxDLFol1VkTgSChJPZRmKZmivcS15HwLB3ULIa4FgHfH188uzYb8ycnvFtBPJPF7H0i+IGx2J4nt2sifCWCLLQDTDSDzLhcE4u5p95VZjgN5whs7apUfEAs5it5XHZqlaeN0zkaKrM1ixj3mPU4LReHUxGklr+B0qD7T7ORIKcrInTI3XedvRO4HgTiGEi0CwTijoBl96sW9Zz1mNhpDLw3GcqozHbik7xN511mvIZQYzjd0yms65gSiaXhlhcVktbKl3s6fZy6GOAEc7g3SFgqjK3NSZx25hZ5OHjlpnudPHoU6npUYTOY53hwk6FxeapgnqAmmfcFrjdF+U7okkH//nixzvnsQwTIaitx95EwjWGpEqEgjWCX/5fO+8LqkLoSpSxUV0uRhm0S/Ea5Fvazuryj1YElN873TqPDbqPVYuDiW4NZ5EtSjl1MwUtW4rLQEnqiJhmnBpKMbFoRhOq6U8dkGRYEeThzN90Yrn3hhPcbQzuGDXVcCpLqleZTiWw2NX+dU/eYFXbKnlPa/sJJrKsqtFdBkJ1i9CuAgE64DLw3E+829XVvRcqyKj6bc/Qbkj6OT8Mj1D1ox1op+Wi6abjCdyWEqaIa0ZHGj0crY/WrHeRDLPpjp3uXh2W4Mbh1XBpsgossR4IsvmuuJAxXqPbc4MqYWKt9uDTpxWZcn1RjfHkmxv8PDj6xOc6o3gsVv48nsepN5ro6CDbwkRHoHgTiKEi0Bwl7kwGOPdf3mC7CKts/NxoM2PVkotLDdQYVNlfnStOPRv3YiWexyfQ0VC4lBHgJf6o1gt1f8qM9NKU/ODpmjxO4odSaNwsN0/R7gMx7L87LZanrs+wcwg2eGOAJeGKouEF0M3p48lndcJ1bh45A9+RMEw2dfq5+/ed2zBtJNAcKdZM+HS09PDpz/9ab73ve8xMjJCc3Mzv/Zrv8ZHP/pRrNbp4rK+vj5+/dd/ne9973s4HA7e9ra38fTTT1esIxDcK5imibSUATUUW1P/4qc9fPEHN8nrKxMtAJdHEhWTiZfD0c7givcrqI7TqjAUyzKWyGFXFY53V/rsKBIcCgXpWWCq92Cp1qQrFESWi0MUNd0klS+QyhWoddn44bUJXrm1lpxmkCvojCdzDEUzBFxW0tG5AxcXwq4q5ZSjdUbK8Fx/lBdvhXn5lpoln9cCwVqzZsLlypUrGIbBH//xH7NlyxYuXLjAe97zHlKpFE8//TQAuq7z+te/nrq6Op577jkmJyd55zvfiWmafO5zn1urQxMI1oylfLlfHIrx1ZMD/O2JfjKaTlvQQb3HTiZf4NJwgn0tPmyloXumWewQqWbAalKMsFweFpGS9cRYIseORg+5gkF3FXGim6DrxpwoSjX6ImlGYnNFyFBJmGQ0nZOzDAgbPMufBTU1jHFHowdjRsW3IsGFoRjfujjMp39xT/n8Xo5AFwhWmzUTLo8++iiPPvpo+fdNmzZx9epVvvCFL5SFy7PPPsulS5fo7++nubkZgM9+9rO8613v4sknn8TrnTsTJJfLkctNf+DjcfGlLVgfmKZJMldgNJ6js9aFIkvkCwY3xpJcGIpyazzNT25McH4wRmvAwbYGN7ZS4eap3uLFx2aROT8UqypUNhL38svXS342jgUmbWcLS4uwuW0Lf0XP7mICCLisRDN5coXlv4s9kyn0GbmnA20Bfvdfi7VXhmHS5HPwq11tBByqcNoV3DXuaI1LLBYjGJwOTT///PPs2bOnLFoAXvOa15DL5Th16hQPP/zwnG089dRTfPKTn7wjxysQLBXTNDFM+LU/e5FLw3Essszjr+zkTF+E525M4rQq7Gnx4VAVukIBTKhq1Z9b4gXtfud+uJcPOFUy+epF084FRM1MMtrCRdf9VeYmXRlJ0BpwYLPI3KxiQLcQiiThc6mMJnIc6ghU/B2+dLwfgLF4hl8+1IZLhU31Xm6NJ9nS4BURGMEd445VXN28eZPPfe5zvO997ysvGxkZoaGhoWK9QCCA1WplZGSk6nY+8pGPEIvFyj/9/f1retwCwVKQJImP/sN5zg3E0HSTjKbzwq1JnrsxCRSLHo93hzneE+Z4T+S25gttBMx7OuZSxG2z8EC7nyqWLZzoiSxpynR8Vhv1bDbXu7FW2cFAJIPTuvz70lRex6rKNHhsKJLEyd655+lfvdjPB756jg//wyVG4jnSeZ0rQxE0beFjFQhWi2ULl0984hNIkrTgz8mTJyueMzQ0xKOPPspb3vIWHn/88YrHqqn0hfKnNpsNr9db8SMQLJd4cuFZQJFEGnOBfM310QR/e6KPz3/vOo//5Ul+4XM/5m9PTovoBq+N9Dx324LFuTgU50Cr/24fxhyWI6eujSYZiGSYzxrHvoRUi3cRm/9b46l504qj8Sw1S3DZnU1/OEON2zZvN9TUfk/3RXntH/6YZDZHOqthsYgmVcGdYdln2hNPPMFjjz224DqhUKj876GhIR5++GGOHTvGn/zJn1Ss19jYyIsvvlixLBIpKvfZkRiBYDVJpjN43XNdYpPZPHo+z0sDcR7cYsOiSCgzWkENw+QbZ/v5r39/ccG0TmvAwane6Foc+oZA001eGoze9vTr1Wa5yZD2oJOgS+XKyNxp2NXqU2ZjV+e/t2z22WkNODnRU92IbiyR40Cbn8kVdJxdGo7TFVq84+xtRzvI6RKNbkUU7AruGMsWLrW1tdTW1i5p3cHBQR5++GEOHTrEM888gyxXfgiPHTvGk08+yfDwME1NTUCxYNdms3Ho0KHlHppAsCSSuQLhsWGa62sqluu6wWg8y8W+CLV+F+cGIkwk87xmdwOKojAcSXK8O8rHvn6lqmhpDzrxOizkNIPBVRhauNExzGJKpaszOGfK8b1ArduKphtVRQsUu8Vkaf6xDRIs6KTcFnQu6J4LcLY/yuGOAGf6IvNGfmZzoM2P1SLPMc2biapI7GnxcTTk55Vba9EKOumchtux/I4mgWC5rFlsb2hoiIceeoj29naefvppxsfHy481NjYC8Mgjj7Br1y7e/va385nPfIZwOMyHPvQh3vOe94gUkGBNSOUKfPyfLvLZt+4vLzNNE8Mw0AyTfzk/wp/+uBubqhBO5TFMk6OhIIlsnssjSQwTujoD9E6mGY1XtrM2+eyLXkgEy+d4d5jDHQFO9UbKqRq3TaHBawdYdgHqnWJznXve88GhyvRHMgvOmlIVCbuqVBXJHptl0cLdKU72RpYcKar32BiOZeac21M4VIVdzV4UCY73RPidf73K3zS7qfW5iSVS5PJKudtIlkX0RbA2rJlwefbZZ7lx4wY3btygtbW14rGp2gFFUfjmN7/Jf/pP/4mXv/zlFQZ0AsFakMpq/Mart5R/z2sFLIrM733rKn93enDayC1bKK/zwqyLz/HuCIoEdR4b4yUvjoNtfk73rZ+Uxv3Gyd4I+1p8vDQYA8CiTHfMSNz99untjR48Ngs9kylCNa6yCd187Gv1LypyWwNObs1jUtde4+ClgdiSjs1ts5DMFRZfEWjx2znTP/92DdNkMpmjp9TNdH0syeN/dYaPvWE3B9sDpHIFtJyGRZGxr6A4WCBYCmt2Zr3rXe/iXe9616Lrtbe3841vfGOtDkMgqKDe5wCmxfONsQSf/fYNvn91bMmTlmUJdjZ5GYpNh/Ezmr5+BhTepzisCvtafRR0s+K9n8+gb6040OZHAs4ORDFN2NVUbAme8maZSOY52O7nxlj1FBEsrb5loRlB8czShAgUU6Odta6qZnizMc35oySyVIwqBl3WsnABODsQ59/96Yt8/A27eNvRjnKtS0E3UGRJ1L0IVh0hiQUbllQmx2/9w8Wqd667m724bRZ0w2QskWM4lmFbg4eLQ3GcqsKN8WTFbKHhWJagy7pi6/27hW6YbKlzrcq2ljKN+HaYilB47BZ2NXnLvy9UJ7LaWC0yOc3gwlAMv0Nlc52b032ROfvXFvHjWey96gg6MOZRY6Ea54JDFqsRdFmXJFwSOQ2HqsxJQ01FF712ldF4do5YzBUMhktjCqaEylqfD4KNixAugg2BaZqYpoksy+RyOa6NpXjiy+fonUwjSXAkFCzfKUpA90SKi0NxrIrE7mYfAZfK1eEEW+vdjCVyHG7z8aPrE+ULViyjcbQzSPdEaklW7uuFaj4dK6XGfWcKMxPZQkWaRbqDyaJ8weDsQBQAv9PK2f65omVfq2/RMQwLtdoDNPocVVNJbqtCo8+O06pwaXhp058BLEusN5lM5XHb59bPdNa6UBWpnKqr99ho8TuIZTXGEzn8TpU/e66Hx7raaAm4yBd0LLI0pyFDIFgNhHAR3PeYpklWK2BXLRiGwdWhME985RITyTx7mr0kc4V5u1byusmZGd0V18eSHO0MohsmbUEnvTNC5i92h+nqDNxTwuV+YEeT565Mtq4WwXig3c/Z/uiiESB9kRXyhUrh4LYptPgdZDSDF26FOdThX9axDkQzc7qzHKpMZ62LwWiGWCn15LerzI4VtQQcXBqKkcxNH9NYIldxnnfWuOgPZ7g6kqTeY0cGNE1DVYvpLk3TsdkW9qQRCJaKEC6C+5KspmOzyOXiWwl4/tYkf/1iH9+5NFru1Lg8HMeuLm/mSipXIK9IeGwW2gIO+me0rPZNZrBZpBXNiRGsjBtjKXY0ergysvQIxFqhyNKS0lan+6K0+B3lKdCzKRiwt8WHLBXTU+m8Xh6EWETicEeAW+MpwunF05ODkQzhUu3N+YEYBcNkU52Li0MJukJBTKbrUk73RTnY5mMypRHPatR7bIu29099hn7nX6/wf5qO0OBzkMkZ2GwyhUKBkWiSjobA4m+MQLAEhHAR3FeYpslQLEuj145hGMiyzD+dG+bj/3yRRHZuQaNuFm3Ol8NANIPbZil7bOxt8XG+FEIfiWfZ1+pbcseH4PbJaDpjiWKNkQRsqZ+/DXmtiaSXZnvvVGXGEtNdRy1+Bz6HSlbTyWgFMpq+YHHv1FDOB9r96ONGOWJSDVWRqHHZaA04uDgYZapWVi7943gVA7uZnUVn+qKLvh5NN+jqDHBpMI5dtWCaJk570bXXYrEQ8LrI5XLYbMLnRXD7COEiuK/41Dcu0RZw8h9e0Uk+r/PM83089a9XV3Uf0bRGdMYFyq7KqIqEppscDgU4uY6cXjcK4dT030Mbjq96BKbRa6PGbUOtNnhoBoq0tC6nzjp3OV2ULxjUeWyzxNbS0o2nS6Ki1m2l2eco16BMUeOysrnezameMIlssU25UIo2XhiMs63BzbXR+QXSUpmZTh2MprErdhRFQVEU0ukMXmexm0/TCqiquOwIbg9xBgnuGyaTOf7q+V6+8r5jAPSGM/zZj3vWfL8neiI82BnArlpILKP1VLA2xLMFmCcFU43NdS5ME5QFREk0rXFxKM7RzoVt8K+PJdnV5J2V1plLXzhNi9/BSDxLg+f2jQsnknkyeZ2jnUHOD0RJawab61x47ZZyXctUZLErFGQskaXBa6N3cvUdnn9yY5LtDR2MRlM0+F1k8xqKomC1qtx9xx3B/YAQLoL7hn+7OErBMGkPOjFNk2+eG2Q8eWcKZV/ono6yHGjzs6nOxa116ui6EeiocXF+MEaDx0Z7jZOsps8p4G0LOGjw2jk3EF01D56p+habRWZnU7HweyrlY1dl9rb4uDqSYFuDh57JFG0BZznNuFJa/A68DgvhVJ4Xu8M8tK2OZK7AeCJb1UxuKjVU47IyEp/fJG+lfOfyKO/92c1cG0/zmW/f4EOv2YG1UCCSKdDonzsfTCBYLqJXTXBfYJom37o4AsDfnx4A4MXeGJY7dIZ77BbcNgVZKrZG+xyig+JuMpbI4nNY8DgsnOiJ4Kji4upzqJzsjay6ceDFoThtQQdn+6PcGEuyq8nDA+1+9rf6OdEToaPGyem+4hys0Xh2ya3K1ZAlqPVYuTycQJVljnYGOTcQ5WRvhN7wwtGU/BJM8FbC8Z4If3uij0NtPp69PM7/+29XsaoqL/VN8OyFIQxjbfYr2DiIiIvgvuDScJwfXSvNwzJMfu9fLvH8rTCNXhsj88xdWU2siszmehc9E2mRJloHjMZzdHUGkYAbTP89DncEqhrGrTY3xqb3OdtvZWbkp95jW3H7vEWW2FLn4mapRmUgmmFgGSmyKyMJujqDRFJ5bownV9V9+Esv9vKtCyO8Ykst/3xumMFolqd+cQe/+XcX6QzY2NpSs/hGBIJ5EMJFcF/w5eP95X//zremi3Hba1x3RLhMpvJMduepu0MmbILFmelZcnEwRp3HxsneCEGXFa/dsi78dpy2lX8Fb2vwMJbIIskSD7T7URUZE8hpOueW0NWm6SbHu8M0++1LEi1LKTqudVvZVOfi5liKcwNx2gLFotxTvRHe/McnsKsyZ4eSbGkOilEAghUjhIvgvuBNB5v52ukB6j22ov14acDdyZ4wTT57+fe1wu9U8TvURY3FBHeHVF4vF6eGU/l1M5ohWaVFfzHsqsyWejcXZkRuTs9qWW71O5YcfTFNk631bq4v0H4ddFlpCzqwWxRM4OZYkskq76GmGxyfUe810+MomSuQzME3z4/yK4fbl3RsAkE1RI2L4L7gUEeQ1+9tomcyTTKrsafZy5FQgPagc81FC1AqtkxXfFELVobLqnCw3c+eZi8HWv13+3DWjB2NHq6OLr9le3ezr0K0zOZAm39ZKaPhWI6sprOtwV318e0NHuyqzLn+GC92hxlP5NhU5yJUM7fQdv8S/l5b6t0i2iK4LUTERXDfUChFOxI5nQtDcbbUudasAHEmXofltjtD7gdURVq0XXghimkIk4JhliMIOxo9dIVK25RmrTyVu5Ak+iZTdyQluJpYZGnZEbqpGp2FuDqaYFOtC4/DwrkqXUXV6I9ksCoStW4rE8npSMqORg83x5JoM46zeyJF90SKI6FAeUp0Z62LOreNU71h6jw2Ak4Vm0XBMA2uDCeYWf/cEnCQyuRwOURaVbAyhHAR3BeYpsm/lbqKprg1keJwKMhQdG0jLjsbvXfNqXU9oenmqr8PyzGRs8hSWbyuV1RZYn+bH5fNwg+nismXQbagL1pYnMnr3CoViC/HYC6vm2yuczORLP4N97X4GIhkKkTLTKbqXVRFIpbWykXpiqLjtTvLAzwbvXbqPNZyUXIqVyBb0HGUnK0FguUihIvgvkCSJBq89oqOHsOsvElflf1QtNA6EgogSxI5TRfRlnVOR9DJUHT+C/BqYJFhf2uA7on5ZwcFnGq5QBhgf5sPiyyX7fsXY0ejh3hmaSMFplCV5QmD/kiaHY0eXDYLum4sOAcpndfxO1U21boqamzimQKjM/xhRuJZIuk8+1t95AoGt8aTeGyWOaJF1w0kCSFmBIsihIvgvsA0TSJVvmTP9EfpCgXL81lujidx2SyMxDJVByG6rQrJeWYX7Wj0cHM8iV1VOFGy9d9c52JPsw+AgmGgyFIxfz+16Yr0xsx/mqTzBQYiGbY3eCtfC2b5aSYgIWGWnixNSSdJmiPKipkWs7xTExNZkmYsMkvbqi7oZh6yOXMlk1n7nz7G6edI2NT1c8GRgMOhAKmcTiKrYbcq2EwTX6mAeqVpJXNGW41Fhia/g/5whr2tfk71RdjW4CaZ08iXciNOVabeayea0dhS7y6fN0A5jTN7avN85AoGfYt4s8zm1vjy7PyHolmGKIqO+WpepnDZFJxWZU5hMECTz85EMkdGK6ZqcwWDcwMxujqDDMeyJPIGp64N8cpt9WWPHbnkZ2OapqiBESyIZJqr2b1/54nH4/h8PmKxGF6vd/EnCO47TNPkt//xAn/9Yt+Sn3O0M1hOaxztDNIzkaKjxslYIkeNywYSc+6ELTI0+530hdOrctz7W32MJXJrWjzssVuqDpdcC2a+p3eatkCxi6Y46Rii6fycFMmBNj8j8Sz1HtuKh2Ae7QxyeTiOpySAIqk8AWelA21H0Elv6Rw53BEoR1gW4mC7v2KYYa3bSqjGhW6Y5TlANS5r1U6ehY51pX+PWreVVE4no80/gHR2PcwUDlXGocpsafByvDuMx2YhmS+UU0s1Liv7WnzcmkzxgZ/byi8ebAWEYNmIrPT6LSIugnue529OLku0OFQZwzTZ3+bjXH+MM/1R8gWD0ZKvR89kmsOhAKosEXBZMUwTw4Rmv51Li8ygWSp7WrzYLDItfscd6Xq6n9nZ5KGgm5gmC16oz5YEgMdmKQ/FXAnxbKE4D6nEbNv8/kiaoEvFoVq4NbG0iMeFwRjbG9xouonVIhN0WvnprcnS8SoEXTYavLZlCZfbKUx3WpWqomQm8z2e0QyymsHx0viBH1wb52CbnzP9UawWmU11Lr5/bZztjR6+c3GQ1+1rRlXkOaJFCBnBfAjhIrjn+cIPby5r/b2tfo53h9lU5+JoZ7DqHfHUhOeZJmXtQSfbGm5/6vDBdj/XR5Mkc3cmEnK/c300ice+9K+y62PJqlO89zR7cVqV0m/S1P8Ayuk12xJmSBjm1LTqpdejaLrJ1RkRooPt/vK/EzmdRC5NIquxv9W3JHM5YN5RAntbvGQ0ozxDqRrDsextFTtPPSutFc/x66MJtta7afDaeO5GUZBdHUngtSmMxNK0BeempQqFAqoqRmcI5iKEi+CeJp7VKkLsS0Er3YneGk8taxDi2f4ou5tvLx3pVGX6w2khWlaRgmESSS+vaPVkT4Qt9W5ujCVpDzrw2FUuLCGadjvt3kvFoSpVi2rDaY2tDUqVZ1Qnqxm0+O0Mzuiqaw04GE/mSWQ0djd7uTmWJFuYG5nZ0+wrp6iWy9R09K7QdO1OMq9zfSxJXziFLE0PozzRG+WDXz7Du16+iZxW4JcOd5S3I0SLYD6EcBHc06Rz+pJFwAPtfsbiOSK34Zp6u4HrrY2eJXtrCNYWiyxxJBTgVG8Ew1wfxoHNPjtIMBipXkeVKRWOHwkFGIllafDZ50SOpnBaFW6MaRwOBdANE0WSMMxpj5yLQ/GqhcFdnUHOrVC0HGz3Yxgme1t8JHJzxWSuYHIkFKgoUj7eF+dk/1lcNgsNfhcv21Jb8RyRMhLMRggXwT3NhSW2InfWurgwFCdfMGj02Ve8P/k2JvnubhaiZT1xuym/tWAolp1zYZ/JjbEEB9r8XBtNEMsUsKvVIzABp1qu95lP2ECxAH1mYXDAqXJhMEauShRmKUxtZyH/mGoixDAhkS3wH//PKU7/95+viDgJ0SKYzfrpXxQIVoDVsrQvNYsikS99GY+ssBh2T7OXi7fh2ZLKzd+hIdi4WGSpokYnPU87PkBaMzjbHyWWKUYZC4ZZtZbF51hamkU3TM70RdnZ6GF3sxdJWnj/S+XaaBL7PPVAx7vDvHJrLV1V0m6JbIEfX1++MZ9gY7FmwqWnp4d3v/vddHZ24nA42Lx5Mx//+MfJ5yvD9JIkzfn54he/uFaHJbjPeNnmWl65tXbR9WJpjSOhwG3ty2mzsMJGFFRFEnOMBFVp9juoddvY1+ormsxll1avE3RZsaty1QJa+zI9dS6PJHDbLASc1mU9bzZT09Fr3cVuvGrUuq1E0xrn+qPsaPRwuMNPg7f4PEmCz3/vBrFl1iwJNhZrliq6cuUKhmHwx3/8x2zZsoULFy7wnve8h1QqxdNPP12x7jPPPMOjjz5a/t3n863VYQnuI7JaAbtq4fffeoBXPf0DEgvUuowlcownbm+WzcgiYfyFaPTZ6V+meZjg/mVKoFgVmYJursgbqNFr59Jw9YJil1VFkViW0H6xO4zHpuBQlQr/Fo9NYVuDh1NLKIIfT+awWWQ21bmrmup1hQKYFDuKcgWD62NJDrUHaPDa6QgWZ4udH4jx2j/8Ef/Pozt408GWiuef7osQcFrprHUt/YUJ7jvWTLg8+uijFWJk06ZNXL16lS984QtzhIvf76exsXFJ283lcuRy0xegeHx1fDUE9xa5gk4so2FXLdR5bGxvcHKyb74vcYWgy0qt28qZ26gx6QunCa7wjjSW0e6JWTqCO4PXYbmtGhtZgolkDkmCrlAQ3TAr2voVBQ6FlubIO5NETi8axLX6MMyi8/KNsSSn+qL87LZaXrwVntOF9EC7n3i2UG6v3t7g4fxAtOr2J1L5ik4+3TAZjGao9Vg53jN9rEOxLP/3356lwWvj2ObpiGo6p1PQc0K4bHDuaI1LLBYjGJyb13ziiSeora3lyJEjfPGLX8Qw5i8Me+qpp/D5fOWftra2tTxkwTolntGoc08X2W5r8s+77s4mL/2RzG2JlilWamsfzxTY2SScnQUlzNsrODXMovjZ1+Ljxe4w52a06td7bETTGmf6Iitq349nNDTd4Npokhe7wzitCl2dQX50bYL9bf45698cT+K0KrQHnXSFAlwbTZSt/mfTOzk3sjQYzSDPU4B7ebhS3LUHnfzpj28t+zUJ7i/umHC5efMmn/vc53jf+95XsfzTn/40X/3qV/nOd77DY489xgc/+EF+53d+Z97tfOQjHyEWi5V/+vv71/rQBesQw6zs8PlPD22ed7aKaRbvUO82FmUdHMQ6osXvKLb/bjAUWbotV9spboylymZ0mmEyFM1wuCNAJq9zbTRZdOFd4pBFl1VhT0nk7G31cbovSqw00NFls3C8O4xJMZ3UFaq8+WwPOhmIZIik8xzviVT1hQFo9NpwzNMFNRLL0lHjnCO0vnqyj/FEsZi+dzLFe/73SX5mW92SXpPg/mXZwuUTn/hE1YLamT8nT56seM7Q0BCPPvoob3nLW3j88ccrHvvt3/5tjh07xoEDB/jgBz/Ipz71KT7zmc/Mu3+bzYbX6634EWw8ZndNtAacvOcVoarrjiez1Hlsq7LfWGblHjDLnex7v5PRFp6Fc7/yQLu/PH7gdthc52Jz3XTKJOi0cqovUlHrlSsY7Gj0oM4jmnc3ezncEWBXs5feyTRHQoGyz4vDqnA4FJgzqPF4T5hQjZO9LT72tHgJpzTCqfyiM7FaAs55PZeGY1l6J9O4bBa6QkEcqkyTz87V0SRv//PjfOTvX2I8lmYoluHNs+peBBuPZde4PPHEEzz22GMLrhMKhcr/Hhoa4uGHH+bYsWP8yZ/8yaLbf/DBB4nH44yOjtLQ0LDcwxNsAAq6UdVZ9JHdTXzyG1fmfDn2hTN0dQYZXeFE4Ba/g0gqh01VGLiNzqAhMZOogvBtGAHeyxgmBJ0q4dvonHGoMj2ltMvmOhc3x1ME3VZuTlQ6QU8V7+5r9TE+Y6DnlHut22apmO80s/A86LTO6wEzte+dTR5q3FYGowt/LhQJrsxTSDyTqZqc7Y0eYhkNwyz67QxHktQ5Lbz5YAsum7Af2+gs+wyora2ltnbx9lOAwcFBHn74YQ4dOsQzzzyDLC8e4Dlz5gx2ux2/37/cQxNsEH54bRxZknh4Rz35gsG/XRzhDfub8Tmt/NLBZv7qhbkDF/UlFsXua/Vhs8iYTJvbNfvtDEYzpOfJ2y8VhyqXnU8FG5dTvZEl+6wAtPodpPM64XRR6DlUGbdNJZzOoxsmN8dTHOoIcH4Bj6GXBmLsbvLic6iEU3kUWaIt6GQiWV3Mq4pEk8++qCCZqkHZ1eSdt8MJit1NoVonF4cWL0j2OVQkKv2W3DYLp3oj/NfX7V70+YL7nzWTrkNDQzz00EO0t7fz9NNPMz4+bSo01UH09a9/nZGREY4dO4bD4eD73/8+H/3oR3nve9+LzbY6oX3B/cfeVh9/+qNbPLyjnuFYhk994xL7W/201zj5zw918tyNSbpn3XkmZnlj1LiKLZUF3Sz6TZQi6ZeH43OmBl9ewp3iUgg4raXhe4KNTjpfwG1VSC4gZC0yHGgLcLovgl1V6OoMYBjFWVsXhuIVYvxUlUGhs7FbFSQJUrkCzX7HgpO097f6qw4frUZ70EmusLggNwwqXHpnMzWxu8lrm9NxFcka/EJbUHQTCYA1FC7PPvssN27c4MaNG7S2tlY8ZpaMiVRV5Y/+6I/4wAc+gGEYbNq0iU996lP8+q//+lodluA+oM5tYySeI1/Q6ahxcbgjwPv/+hSffuMuHgjV8D8fO8hb/vinZEsRErtFxl+6izvSGeDqSJKWgGNJX8ztQeeKPDZm41DlRe9eBRsHTTdRpPmjgKoi4XOo5XM0ndfpm8wwmsgyj6/boiiyVE7FLGaGeLK32JF0cQmDJ/vCaQ6Uuo1a/A4yeZ2OGicWRcI0YSiaIVswuDqaoDXgrLqNI6EA6byOVZFQZJkdjR6sSvEzY5omWxo8RJNpVvziBfcVkmne22dCPB7H5/MRi8VEoe4G4tJQnLF4hgPtAc4NxPjcd67yO2/azbbmAEPRDG/70xdo8BY7VsKpPNfHpgsMG71F4bMUAk6VrfWeCo+JlXC4I7DkO9jVxGO3LFo0uVq8ckvtqnTLLIaqyOUJ33cam0Ve8Ryf2SSyhXnTK61+BwOrLHQPhwILzi2ajV2VCdW4luQ347VbCNW4uDmeRJKkeYtwPTYLW+rd6IbJjbHidve0+DnZG8brUGkPOnlpYDrlZbXINPvs9Eym8dgtPP6KTfyXn9u65NcgWN+s9PotqpwE9yS7mr0MRNL8w+l+fvVIB6/d08DXz4/ynqAbLZ+nwWufNxQ+Es+VixMXI3ubdS1TbIRoS143Fkw/rBZdoeBtC8n1wNEqs3qmUFa5fz/oUiuM35aCzaIsWaTFswXsVpnUIjVciVyBM/1RJAletqmGn9ycLP8to2mNnJbE57CUZzHlC0a5EHhTnYtX7axf1msQ3J+IIYuCe5ZQrYuvnR7iePcEv3y4g5F4jqvDcaw264IX0H2tviX7W2Q0nb5wmr0tK4/mHe4IlLs5BLfPRhgWXO9d3Rq/Wrdt2V1cdR7bnFqxhZHoCgXY1eThQJuf1oBjwbVn15JBMUK4vcEzZ/mhjgCXhxPsFiaOAkTERXAPs63Bg9+p8p1LoxwNBXjjvkZ+91tX5zWim8Jmkec1yarGSDxLJJ1fUbpHlSUi6Y3Z9rtWZO9j7xev3YLbbuHaaHLxlZfBZDK/7NlFAefSO5+AivECLX77gvsyTTAx50Q+xxI5FFlia72LjGaU7Qeyms6eZi/XRhPsEOJlwyMiLoJ7mv/vbYeI5QxeuDnBv14c41RvhL85vvpuyrmCUeHUuxQCTpWWgIObywzRCxZmqdOT70W2NXgYimbLrrWrRTyrYZ/HtbYadlVm6DbSm40+R0U7czVO9EQ40OZHnfW5Go5lGY3nGIgUnYC7QkGujCQ43RdlAwTbBEtARFwE9zQ+p8rHfmEXv/KFn9K7Ct0/1WgPOoutp8ssY28NOBf01lgOhzuKU3XH4lkavHYi6XzprhWK/536Si/+W6K4yG5RyBX0ijWWi1n+T+X+TNMspW0kZIl53VlXm1q3jRq3DYninXsknb8nxaEEHCoNKLRaZGwWGatFIuiykshqVVMpK6U14FxW2kfTTUbjK09vLrVG53RflK7OymGQ9R4r6VwxqjYYzTCRzJVbv6+NJdkuIi4bHiFcBPc8dR4b//0XdvH4/z656LqhGuey7dbrvTZO9kQYjGZQpKKr56XhhTstjnYGV1yo2lHjxKHKWBUFq6UYFD03EC1fyBZrZb1b1LrvjPfSlLuryyqTyhsc7ggA955wMYFT83iaAPidKgGnlXzBuO3i7uXWq7isCvHb6Eab6hhaCse7wxwJBTjRE+FwRwBJKrZ/XxyKMxzL8vItNeQ0g5O9EXI5USsmEMJFcJ/wc7saeHR3I9+6OLLgenZVWfadrDwjVqGbMBLL0dUZYCrqMBrPVXi9uK3KbZnW2S3KklpQNzqhWhcXhxKMJu7Pi1k0rRFNa3hsCjubPHMmJS8He0kASxQ9hfa2+jFMk0ha48ZYZT1NwKnSGnBwfnDl53CTz7Ess8Vb4yk21bo41RdBoujEO4Wmm9waT3I05Cec0TEMk1hGI+Cyrvj4BPc2osZFcN/woddsx2O30BUKzLuOZRl1Kg5Vpi3gYHaOKJzOc7w7wvHuMCd6IjTOmnC8u8V3W3ergqURz2gc7QzSH16fEajVIpHTuTqSYF+Lb0XPt1lkfnR9AkWWcNsspLVi2/qJngjjiRy7m72l87yIppv0LKubqBKHKs/r41KNBq+NOo+NWxMpTHOuTUEyWyCc1ugJZzi2qZbBaOa+aIcXrBwRcRHcN2ypd/O2o+388Q9v0RZ00ORzYBgmJqAVDPK6saRW2taAA79DxWWz0DOZWtTLons8xe5mD6mcjsduwTRN9rf65uT5p2pF5lakTCNJVB0gKaiGdEd8Y9YDhlkssD3cEUCRJQqlqMPsaMlsrBaZfa0+TvRE0A2zYnI0QCyjEctoWGSp3HWkyFLZR2Ul7GnxVQxrXAinVSHgtM6JMDqt05cmS6l2ymm14HfZ8DvViqnYgo2HEC6C+4p/d6SdP/nRLfrDmap34m3Bhb0loHiHOpbIMTYUX1IL9HgyR1uw2D3UM1ld5DT57EvycukKrbw2ZqMRdFvXbb3PWtAzmS6bsUGxGPpgu59YRqswl1MVCZfNQjStcaDNX1H4Oh8Fw+SBdj+n+6L4neptdTUt1am5KxTAMJnz+TrcEcCmynR1BjndG2EylaerM0gio/GlF3r4z6/awuWhOJvr3EgbwdRHMAdxaye4rwjVujjSMb8jaZ3bRqt/fvEScKrkNIOxRHEkgCQVa1YAttTPf5c3lsgt6LIbSefntH1WQ5KK3i9b6l3coSade5ZYWqMrFMRlXXqb7/2Eppuc6YuSyBTw2Iv3oG6bhYNtAaJpDZtF4nTv0kVwz2SaXU1eGrx2WmZ9RiyyRKN3OiXqtCrIUvFGwGOzVPwNFkvHHmoPcCQUIJnT54gWSYL+cJofX5/geHeYV2ypLe7XNNENk1N9Ub5yoo9Lw3EhWjYwQrgI7jsOtPvnfezScBzVUv2039nkIV8wKor+TvREeKCj+EUbdNmK/++cWxRY51m4oyarGTzQMX/tzRQXBmPsbPJyYyyFyy4CogvRM5nmeE9xxs1GZjyZo6AbtPgdHGjzles/cgWT5YxVCqfyXBqOc7w7TN2MDrGuziBgMpbI0uy3s7XBTb6g0xpw4LGpJHMFDNNkX6uPrs7gvH5HU6nTVL7AiZ5I1TlNFlmi2V8USO1BJ72TaXomUtwcTyFJxb/5yd4wOxYxmRTc34hvRsF9x8kFCvf2NPuqtpbubfFyZSSBppsV3ivFfL/GuYEYPkcxhF7vseFQFTpqnKRyBSyKzPVVcjpN5XVeGozR1RnkhEgZLcihjgCKJHFlZOXdL/cLGa3YMt2yiM3+UtFKQqjBa+PycLwsgIai0+nOvnAGyJT3PzUccVcVn5WD7X6uDMfZ1xFYsC5H003O9Mdo8TtwWRWG41miaY2Xb6nh8lCC3c1enr08yZu2iRqXjYwQLoL7jh1NXk5X8cc43BFgNJ6l0WvHoSpIEgScVm6Np8gXjKpt0rphcmmoeGGcyvtPpZGmCgqtioTbrsLSBk4vCYll+91tOAYjGUZuwyTtfqRnIsWhjgDjicoW/eWwpd5NPKsxGM2syD/GY7dwsM2PIkvIssRILMOZ0ufxVE+Yva0+JmfNTTrUEcAwioaGkiRhmsXxB5dLn7Gf3Jgk4FS5NBxH0w28tQ0rem2C+wMhXAT3Ha/eUc+XXuyrWOZQFc70RdBNaPDauTWRwqnKDMeyhGpcqJb58+U2i4y2wNTbLfVuNN1cdIjdUosWAQbuwWnSVou84MTjalRz9J0p2GY/pshS2UX14pCItMxmLJFjLJHjYLufyWRu0WnN1fDaLZxepFtpPmpcCw84LZhwYTDOjkY3BQP6wmn2NHs5VaUAvmHWoMlIWqPRa8cE/u3SGIc6giiiA29DIoSL4J7HMMyKvPqrdzbw6V/czX//p4sAHAkVpzNPDWzTjenEv6Yb1HtsXF/gi3p3i48TPeE5/hJQjLY4rZZFO49cVgW3felFpKll+GCsF/IFY807okI1zorOGkF1JIrn7VI6imYznlhe6FCRoDXoJJPXcdksc6Ips9EMkysj05+3c/1RDncEuDgcJzNDaEXTRZ+e62NJ0vkCWc2gNWCnNeDgqyf7eexIG1urTJIW3P8IuSq455FliUgiia5Pf+m9/ViIR3c3YldlEtlCWbRsrnMxWMrTFwyT3c1eTvWGywWB1XixO8y+Vn/Vx3Y2eTnVt7BoURWJ9qCTc/1RbBZpwZlBXrulOJVX5IkEt4FFkVckWgBctuV1aTX6HPROphlL5JY1VmAKvdQSPdXJJEmwt8VHe9DJ5eE4igwWScJjUygYJid7IyRyhfI4DMHGQ/zlBfcFdouFQqEySvF7v7KPvS2+ci3K5joXfeF0uUYlr5uc7Y+RyOmk8wtHOM72R6u2J58biC3qaLqlzs3lkQS5gkmuYLK53j3vc7Y1eIikNTR9Ge0gAsEqspxOJCi2YM9kc50LVSkO3qxxWdnf5uNA28Kfka31bm6MJVEVic11bs4Pxrg+lqTZb2c8kSeZ10nkdNw2lZ/ZWosiFVuyBRsTkSoS3Bc4HHZ6e3vp6OgoL/M5VA60+TFKE4SLgmBuKMNjt6Aqi38JHuoI0BdO47arWGSJKyMJ2oMOzg0sbwL0VFfF/lbfnOee7I3QFnAwHLv3alzuBKaIRC0JvVpecwlYLTLjy5z9NJ7I4bIq5HWDg+0BjneHsVtkNNNkMpVnMpVHAl61vR7NMIim82i6Wb6hUCTK7tSabpbtBrbUuysiOFvq3VwZjjORyrOr2cuzF0f59w92zDkewf2PiLgI7huam5tJJCqtw3MFg1O9EW6NpyqKZ1VFYm+LlyOhAI1eO4UZEY72oJOga643yPGeCMmcTvdEqlwHEHQtPhE5W+UWtsFr4+o8gxT7Ixm2N85tKRWAyKEtjdnjJpZKi9+BtsyQSzidZ0eTl9aAs5yemnnO+xwqh0MBfnR9jHS+wPnBOFdGEjzQ7keW4HAoSF84ja2U+jFLf+MbY0n2tviBYm3TUDTD5no3NovMeDy7qHeS4P5FRFwE9w2apmG1Vdaq/Mart/KTGxPEMhoOq4JLtVAwi3d1Mwe1dQSdbG/04LQqnO2Lsr3RQzqvz3HDnRoe1xZ0srXBvWgEoMFro3dybt4/ltHY1+rj+DwzXTTdQKKY7zfN6cu1WppTM9WNM/vxlbI67dd3QFQs43rcGnCQzuuLdnvdLSyKxK6m1S8urXFZiWS0ZWy78q+/p8U3z5DE+c4SiVROm7e+xWO3cGEwRsEARZ6+Vz7dF6UrFCRX0OkqFdDbSt1/U9hVhW0NboajWdJ5nSsjCTbVudhS5+LVO0VL9J1iYDxKa53/bh9GGSFcBPcNTqdzzrJat42/evdRHnr6B0wk8xztnJ4F1FnrKn/Z9obTdAQd+BwWTIoeLQfb/Jzpj1Zsb0+zF6fNgq4Xw+CGYXK0M8h4IsetGV/chzoCWGSJZK7AaHxul0ZWMzjTHy0ahpnFO92eyRRjiRydtS6ulQztTLNYM3BzvNi+nS0Y5UuHyeqlTmZvRpJAlqSyOJo6ltnrmqY5o9tq7S3Yl/N6l9sdc6cp6CaXhqtH3VZK0KWiG3B1dOnbnfmZmA9Fgq0NnjnDEGfORZqPgUiGoFMloxncGE3S4LWVPxPxrIbdIlcV8A6rwgu3Jmj2O8rDIWMZDUWWeP9DW1YcVRIsH2OFqce1QqSKBPc9zX4HXaGiv4gx48rX7LPjUGVkCXY3e6n32jnbP11zMpbIsqOx8q7VabVwpi/Cqb4I10eTBEq+FbUeG6EaJ6EaJ0dCAU71RnixO7yg14immwxGiiZfx3vCxLPFKb194TRHQgGmmiZujqfYXRJMd+r7wzSLdRIFw0TTiz+F0u/6jJ87/X22nN3lCsaik73vN8IpbU6x7GJkC4t7vRwOBeeIFoD9bf4FRQuAx2YhXFonnM7TGpi+wbgyksBjt7C3SrH6vhYfBaNoNLi7uZg6PdDm54F2P4/sEtGWO0l7w+LjSu4kIuIi2BD83M56nrsxgUNV2FznwmaR6Qun2dFYtPqvJjACLiuXZ90RH+8Jc6gjUDbMmvKdmNl6ulKfkZlpqRM9EQ6HApzsiXAkFODCYJyMtnwzsfuO9XXjty4ZiS+vsPvmaJLtjZ6qNVdyqTV5vohMfgnCsDngqNh2JJXHaVVIlz47o4kc/eE0u5u9KJKERZEwjOkCY90smg16HRbO9kfZWu/GroqOoo3MmkZc3vjGN9Le3o7dbqepqYm3v/3tDA0NVazT19fHG97wBlwuF7W1tfzGb/wG+fz6zEkL7l2mjKqymsHN8RSXhhPEswUKhsmheYYfXhiMU1+lAHBmhHpoDR1uT/ZE2Frv5kRPRIiWEkK3LExXKFj2KVoqybyObR4H2gfaAwt2zemGyeFFhocWZrX2B5zWsmiB4nDHjGZwcSjOS4MxTvdFOTsQnZN5jGeK6aKNPlRTsMbC5eGHH+YrX/kKV69e5Wtf+xo3b97kV37lV8qP67rO61//elKpFM899xxf/vKX+drXvsYHP/jBtTwswQZkKJphb4uvVLtR/NlaX/SLONUbXpInxKGOAAGnyvXRBAGnStBZ/AI90OZjf6uPtUi5L+TouyERymVeDrb5KwrOl8NAJEN7sLJGzOuwVAwcrcbFoTgTyRx7mufvghtL5GgtDX90WRUuzRqKOZnK0zDrBsFpVRieR4AttC/BxmBNU0W/+Zu/Wf53R0cHv/Vbv8Wb3vQmNE1DVVWeffZZLl26RH9/P83NzQB89rOf5V3vehdPPvkkXq84QQWrgwRzvoRP9kZo9ttp9juIpDT6wqmyz8vBdj+pXAGfQ6Ut4MBls3B5OE6kSj4/W0iSyevUuq1srit6T4yt88LQexWhW+ZHug3h3Bp0lKc7TxHPFNjd7F10JlTPZJqDbX7agg78DisOVUE3TW6NJ4mkNRLZAjsaPQxEMhimyZ4WH2f7o+XPmmlCS8DB6IzPzELpqf2LmNkJ7n/uWI1LOBzmr//6r3nZy16GqhbvVJ9//nn27NlTFi0Ar3nNa8jlcpw6dYqHH354znZyuRy53PQJHo+LQWuCxbEpxYiJLBXz8vGsRjilkcgUOBkt1qv8zNZaBqMZcppRnmY7RZPPToPPzkiVDqEpJpJ5JpJhZAn2tfowDJMLYhDgKnP/SJfVfiW3E/CbL+XpWmKhryRBfzhDP9PbschSWfhMjQfLaAYneiLsafFyYTCOz6Gyuc6F22ah0WcnX9CxyDKGaeK2KiRnDYk8tqmGAy0+DMNAlkVvyUZlzYXLhz/8YT7/+c+TTqd58MEH+cY3vlF+bGRkhIaGyurwQCCA1WplZGSk6vaeeuopPvnJT67pMQvuPzwOFUWSuDGeLPt6uG0Kydz0F2M6X+DmeHUvCkmCc/0Lh82nMEzKd6+NPjvtQSc3RhMkcoVyO68kgSRJ2CwyLqsFiyIVL2QzrmZTaS3DLLYmTxlzzZ52NN8Fy6DY9WOWun8M0yz/TD/LREIqtj5Ls9ugi8sGo5l141i7Tg5jXVLFFHpJzBdV2dbg5qWB6JK2Ua01uWCY3BpP8UC7f848L0WSaA86qHPbODXrJgGK6aWgywol4dLks9EedBFN59nUICLxG51lC5dPfOITiwqHEydOcPjwYQD+63/9r7z73e+mt7eXT37yk7zjHe/gG9/4BlIprilViW+apll1OcBHPvIRPvCBD5R/j8fjtLW1LfdlCDYY2xvcxYI/ik6eDV4bw9EsD24Kcm00icuqoMgyfqc6p73zaGeQTL6A22Yp+6u0BRzlIsFUrjBvJ9FILMtILMuRUIATs7wqWvw2BqNZEtn1PQnaa7cQn+cYpz6md8pRY70IqNXgdt+zXU1erBaJRLZAtmBwfTRR9vxZ1nFUORCHKtM9kao6ImM2nbWuOef2FBlNx2m1sL3BQ0YroOkGbQEXqkXixlgSn8M673bbAg4cqkKL34EkFYedvueVoQWvD4KNwbKFyxNPPMFjjz224DqhUKj879raWmpra9m2bRs7d+6kra2NF154gWPHjtHY2MiLL75Y8dxIJIKmaXMiMVPYbDZsNmH1LFgePptMjcvKcCxLvmAQyxTFiWkWuxrCqaLV/sF2/5w00eXhOPFsoSK37rAq5bvUl22qWbQFutrX7L1yDZ5PtEB1UzrB2nGo3c+VkQS5gs71sURZWFgViSOhIKd6l1+ca5Hmply2NXjIFXRyBZPeyRSGSbnDLlTjIpbRyiZ3dR7bglOhr40mcNsspRoXGI7lONQRIJXXuTAU40ip7X/2OWRRJKwWmeM9YZyqzKGOAL9yqE2IFsHyhcuUEFkJZulbbqpG5dixYzz55JMMDw/T1NQEwLPPPovNZuPQoUMr2odAUA2Hw8GeZi/DscpOBWPWLbzXoXIkFMCk6NESz2iMlYbOzfy6nDnE7sZ4gs5aJ90T84uXahf2oVLXxAPtfk5XCZffz9R7bNS4rDhtFiyyhKYbJLIF4lmNfMHAY1cJlLq2dMPEaVNIZIupttl/w9Vmvf49Drb5eWkwNiMKMn1W5XWTn9ycrPAYWirVDOhsqlJug35oex3pnM6ZvgjNfgen+8L4HFZ2Nnlw2yzEFjGgG0vkUBWpwqzwVG+x1f/6WJITPRG6OoMVXkgAiiTT7LNT67ZS0E0aPDYxw0sArGGNy/Hjxzl+/DiveMUrCAQC3Lp1i4997GNs3ryZY8eOAfDII4+wa9cu3v72t/OZz3yGcDjMhz70Id7znveIjiLBqiJJEr+wr5FvXx6rWJ6f4TGhSJDJFeaEve0WGTAr0hS1bls5JK/pJrVu24LCZSFO90VXdMFZr1jk4l2432HFaVWwKDK6aZLOFecGTSRzjCVyC3ZeRdIafSvr7L1t+iPrbzL33hYfFwZjaItYFZ/qjdAVClZti55Z0yVL0FHjIpzKkcoVcKgymZIBoqpITCan/zb94XT5XO8NF8/xqanPAEdCgXn3OUWd20aL31Fh7T8UzdBZ66JnMsWZvgg7mzwVho8mJomcXq4X298WWvC1CzYOa1aW7XA4+Pu//3te/epXs337dv7Df/gP7Nmzhx/+8IflVI+iKHzzm9/Ebrfz8pe/nLe+9a286U1v4umnn16rwxJsYF67t4UGb2WaMa8ZtAcddHUG8dgtFV+sLQEHD24K4rYX9f3Ma8bMy4emmwxGM2yuc6342K4Mx2nxO1b8/PWAIkvUuKwUjGI64PJIglN9UV7sDnOyJ8Kl4Tgj8SyFdTb3ZDbrccaRw6osKlqmONUXYVv99Ll4JFT0H+qoKS7b1+rjgfYAfeE0oVoXoVon+1r97Gj0cLQzSGvAidtmwW2z4HOoC3YWyRIMxbKc6osQqnGWvYxURaIrFGRXk4etDW6ujSZI5goVRbypfHHS+sE2Px67Sq3bxoE2X3nMRjpfFC0H24pTpGuqTGwXbEwk07y3y93i8Tg+n49YLCaiNIJF+daFYX73X6/gsVvIFwy8DrUiwnKwzU9vOE2L34EswbmBGIc7AuR1g6DLSqo07C2R1bgykmRrg5veyTT5glG1AHeKxe5IoVjkOBBJL6kgcj2ylGF9gmmW+n6pisQD7YElrWtVJPa0+JhM5mnw2dF1k+FYhqFSeu1Am5+zswaH7m/1cW4gVhGR2dlUHKg4dXXY0+ydt7V/qivJa7eQzuuoFpktdS4kJF6a4Z1U57YxnqwUhT6HBd1gzjTqXU1ebowlyOsmigSb692EU3m+/4FX4nFWToAX3Lus9PotGuEFG4pX76hH003OD8a5Oprk/ECMn91ay96W4ofm3ECUZFbj/GCMiWQxFH55OM5LAzESWY0TPRGujSYp6MWpzQXdLNduTRX8rpTuiRQH2vy3tQ3B/Uez31FRUzUfjV4bu1t8nO6L0htOc7w7zKm+SFm0AHNEC0ynS2daA9waTxJwTnf8XBiKczhU3drfZS1GZKZGaGTyOucH46izxgiMJ3O8fHNNxbKcZqDpc+cdXRqOs6/Vh1OVsasK10aTbGvwCNEiAIRwEWwwVIvCmx9oKf+eLRikNR0J2N7oQVVkfLNmoZRTRaWLx+Y6F6OJLH6Hle6JFKois6PRU26VrsoSGyGujCTKU6anfrrmuWCsNRZZYmu9m32tPo52BunqDHIkFOCAcC69o/ROpucUkc8mVOMkndfndMQtBVmSONDqr1iWK5gUDINQzfQYgEtDcbY1uMu/2ywS2xrc6KZRNU2qKMWTfmYKdDiWKd8kFPdj0OSbK0aOhAL0TKTRTbBaZLY3eHjrYWF7ISgipkMLNhyPv3ITf3uin7FEDkmC0XiWBq+dlwYj2CxS2aCuPeigyWfHME3qPXZq3Da6QkEyWgGv3VI21TLN1Rv8lsgW5vi6+B0qD7T7K5bNNKEzMZGk4nFIklQswJFmaCUJTAMi6enhpUG3FYnyqlX/X5akOZ0eUBRuRzuDc5bbVXEftFbMjl7MZjBanDW0UOv6fFwcileN9MUzBTbXucut/um8Ts9kmsMdfmRJBsnkeHfxM7C13j3n+VB0q05kNY6EAkil82lf67TwNSkWus+0EwjVOCtSrrmCQSStsVvMKBKUEMJFsOHwOVQ+9Mg2/uKnvficFk73RpBL3hA2i8K+Vg8uq8LJngjJvE6Dx8ZoIofNEuBkbwRVllAt0xeSPS1erMoiIZXbKCUzgLOr3J57awHfjcW4OZ6qanJWTczMZMoFeAqbRebfH+3g6KYgf/nTHn56c3LFx3QvspwzYrGIi6abxDIaNS4r0Yy2pNTSFAvVZqmzbPXzBQPdgJP9lYLWME0sslRReD0cyxAtzSqayUsDsYr2Z0vps1PjsrKpzoUiS9R77QxHM+UOr021LloC67N4PZ3JohkmPtf6PL77ESFcBBuSNz/Qyhd/eIs6xUaD14HPodLks1PnsXGiJ4JFhoDDSjKvE3BZGS1FZwD2tvq4PJKgLeBgLJHjRE9k3jvOMhvANKs14KCzto1mv4Nmv4N6jw2P3UJb0InLasGuyqTyOjlNL08M9tiLkarX7G7kXH+Uz/zbVZ67MXGXX8mdYTlnxJm+KPUe24It5BPJPB6bwqGOQNVI2XwsJHKmPIwq9zP3GFRFntMtZrMoqMpcjxgoitidTR5kSeJUb4QjHQGiGa2yUL7dT6PPTl84zTuOdeC0rs/LlcNuw7rOO+XuN9bnmSAQrDEWRebNB1v44fVxJpM5vA4LzX4H8YzGriYv4XSegFNlc4ObZK443dZhUTjY7keRJTJ5nf58hp/ZWktG09ENCLqs5TTTHG4j4rLeJc/LNtfw8TfsZnupjXUhptpsa9xz3a/3t/n5q3d38Y9nB/nYP14kkZs/7XG0M4humuQ0ne6JdOlvcGcuHqEaJ7lCsaC02W/nXH9szVu8az02/A510anj2xo9nJ815Xkxqs0ZguJg0dmpp85aF00+OxPJXNn3BcBrn5sqvTGWZHOdiy31LsbiOXIFHcOABq+dF25VCisTuD5WWSM2Va/jtim88UAL6xVJkspRI8GdQQgXwYbDMEw0w6AlYKPeo+IMBbg+lqTF78Ck2NEAYFVkJAkuDRVNsdJBnb7wdC6+LejgR9enowPbGzw0eG0VJlpTSFIxNSJJ0/UpU0MTF9M0U8eznlBkiZ/f2cC7X9nJkdDCKaLlIEkSv3SwlUPtQd71zHFuTaT42W11dNQ4uTKcKLeUTyRzFemqjqCTWreNi0NFEbGWQmI0ni1ftOs9NuyqMqedd7nsbSlNUa5y2PtafVwdiTOygGOwzSKxpd7DZDJPRqse5ZiPqe652UxNagbYUu8mp+kMRzP0Tqao9djY0+Ikks7jVC2k83Nff6jGSd8M87opRmeJr011Lk7OY75oVWT+17u6igMXBYISQrgINhwFw0TXDTBNdL0oJDprnOhGsaV5f6uPVL7AjbEUXsf0RyQ764JQ77HTH552Wb06msChyoRqnHNmF5lI5bv0e5Vat5UDbQFesaWGN+xvrho1WS3aa5z84xMvJ5LK0+RzYLXImKbJV08N8D++fQ0ojQ1w27gxlqA3nC67uh4JBRhP5BadH7USpjxPpvYfSefZXOcqL1spF4biVQXsoY4AZ/sii05+zhVM3DYLg9Hlu/72TqZwqjLpGRGU3c1eElkNt62YQr00FK8wwOuscVX4yhztDFLrtpLK6+xs9BDNaLQGHAzMcCG2yBK6WelA7bQqNJTGP5wbiJGf9Rn55Qda6Fqkdkqw8RDCRbDhsFpkrBaZXMEkp5tkNJ2xeBaf08p4Isd4Ike9x0Z70IHNorCjwYoiF+9MC4aJXZVpCzjL+f9at5Vmv6MYUaEYNaj32MsRFQkJh6rcxVc8P06rwgPtASLpfHlo5BRWi0yD18axTTX8wr5mXrGlFnmetMJa4LWrFSkISZJ46+E2XrWjnpO3xgnVebGpMt+9PMbnvnej7KNzoifCz26rpdZtI5EtlIcBrgYzB/w1+eycG4jNaZ9fKjO1SDXR0uSz0zeZXlS0TPFid3hFJoCGCZ11bi4Oxdnd7GEomiWT1+kLZ9hcJzMSy89x7S3M8l6Z2rfJdKfRrfFU2ZwOimLo2miCjhpnsRPPrlIwTc70RckWjKrzikTpiKAaQrgINiy3JtKMJXJcHIpzqN1PNKPxM1tryGoml0fijCVyOFWZRFajxm2ryMFbZImh0t3tRDI/b7h9ivV21+hQFT74yDbe+bJQudU2q+mMxXM4bQqKJOF3qutyEm+t28aj+1rJ5wtEM3ne8WA7blXiv/3TpXJb72QyXzRN61gdD5yuUJBrYwl03SinZabem6xmzOmYWgoLvbOhGid+p7WqYdxCnO6NsKup6Cm0nHRZwKnSFQpgULTij6SL6Z2b4ym2l7xbwosMU5SAk7O6k8biOQ62+bFZZHIFnYxmcGUkSbPfjmaY3BpPlQXL8e4wm+tcFamlhcYNCDYuwnhBsGHx2BS0gsHWejeKLOF1qPRHspiYHO4IsLXejW7CSDzHUDRDrbuYZ7dZpGI9zIzrwuyLkLqEyIQsFdebr67PIhcfX+hnJQGQrfVu/umJl/P4KzdV+IPYVYX2mmKtSMBlXZeiZYpoIo2qKgRcNmRZJqmZ/Ok7DrOjycvpvmjZnj6Z0zjcEcBpvb2IV38khQQ4bRZ2NBajCFOOydfHkqveqlvvtS1btABohsml4QStAQdHQgHag87Fn0RRfB/viXCuPzonXTOezBFOaxXiu9q5cWkkPic6NJ7McaY/yo3xJGf6i+m0wx0Bwqk8t0oC5fpoovz5mZl+fPPBFt5xrH1Jxy/YWAg5K9iQnB+IMZrIc60URdnV5OXScJxdTR5O9ETw2C3saHCj+ez4HBZAoj+SYVuDm8FIhudvhXFaFTKajs0ik9UMAk4ViyKXvC5MXIqEz66Way9mMnWHvpA/R/H6sfBd81JmIE3xyw+08q6Xhdjd7L2jKZ/VxjRNfG4HkiShWoqC5PFXbsI0TY50BPjSi33lda+MJNnT4uVgm594tsD5wRgWWWJXsxerIqPpBv2RNOHUwtEErWDy74928JfP98zxJQGoddlQShfzSFq77fEPV4YTFfU0y6VnMk3PZJr9rT76wtDotTMSn7+499Z4EossVZ2TNVVMfrw7TFdnkMlkDkUuRhGvjSaIliIxiiRhtchzhA9Aa8DJRDJPrdvKcDxLdsYk6r0tRUO64VgWWYIDjXa6tjbym6/eisMuinIFcxHCRbAh0Q2D8WSOrlAAE8oXnZF4jqOdAUwkesaTjCXztPjtpPM6kbRGOJXHWXKITed1Wv0OmgMOCrqBYUKuoGOzKFhkCRNI5woc7gggUbzTLHYXKfz05up4lSylBXh/q4/f/9UDbK5bxGvmHqHa3b5pmgxEMnz4ay9VLD/UHmAknuXCYJzdzV6ObaqhYBhk8jonB4ppja7OIDfGEguKF6dVYW+LF6/dMke4dHUGuTwcLy+vWYUOmHi2QDqvV3i3OFWZ7Y1e1JI4WEpE5tpogkPtfs4PxtjX6sNuUTg7MDeqktdNdjQWByvOptnvYLLU5n+8O4wiS4zEsqTyOoc7AuWOIAmp6twhKA5/7OoMcnMsyWCpYLfRZ8drt3BpOM7mOhcNXhv9kQxvPtDK6/bUCdEimBchXAQbkh2NHqJpjamv2alBc+FUnoGowmAkw5FQAIsiFy9IUrEOIJLW6Kxz0zORoqPGyUg8uyyzr93NXq6OJlat6HAsmWVXk6ciLpPNG+xq9rK5zsWOJi8/v6thUcv4ex1JkpBlqXz3P72ccqfNxaE4nbVOAk5rxaTj491hGr02VGVuxKE96MTvsOCyKmxv9FSkB33O4iiG66OJCjGz1AzbYqfA9bEkW+rd1LptRcFsUzhTEisuq8KBNj8TiRwDC3QSZTSDgmGS101eKkVvHPOkzeYbWzHbm0g3TLY1eDjTH+Vkb4R9LT56w2mCbiuJnEbQZWU0XhRbu5u9mGbRoO4nJWfkZp+dJr+D0ViWa6NJbBYJCYlGr50/e8dh7OvUaE6wfhBniGBDYrdaGI1nyy2zL99Sw/5WLzbVUhYisiQxFMvidVho9TuocVnJ62bJi6VoprZYimEKn8PCziYvx7vDq9opMbMdG4qFq1/9j8forDL07n6nxe/g/Q9t4tPfuDyvUVv3RBotYPLyzTUUDLPcgTMSz3EkFODKSKUIkSVoq3HyuccOIkkSv/XaHfzhd64jyRJj8RxXRhLsbfHS4LWX11/MJG6KKX0jS8WUyfYGL0OxDJOpPFtK0bFoRiOVK0ZfZpLK6ySyGuPJLJIETlUhNWudfa0+7KrCQKQyVbmryYthmozGswxFi+mjLfVuoulKgeKwKuxq9JTTqTO5MppAkUA34aXBGLuavKRzBQ60+jnRG6GrM0jfZIpoWmMwmkGRipE/n0NlMJKheyJFg9fGPpeXbMFga4Obf3+0TYgWwZIQZ4lgwyJLEh67hW0NHs71RemodXGuO4xdlQnVFGembG/wcH0swaXhBIdDgYquidktoguxrcHD6b4oe1p8WEr1JX3h9KLdSMvl1x/evCFFyxQ/v6uROo8dmyLx7YvD/NlPenCoMruafZwqpTQGIhkGIhkOzRpcOXtej81S7Cj7/L97AEmS+Mczg/zet65Q67ZxfnC69sQiS5wfnI7gTBVxL5U6j43ReI6XStuUpbkusrPpCgXpnkhS67aTK+hlu3/VIhNOaWypd5PIFspRlplMvQ/7W73UuosGepeH4nOcirfVu4llC/idKruavKTyBQYjGdpriiMcXrg1PVsqV9CJZwv4S2my491htje4uVqamK6bxcnnDqtSjoptrXfzYneY3c0eGn0OdjT5l/W+CTYuQrgINiTnB6M0+ey0Bhyc6Y+SzOu4rBb2tfq4OZYs5/qdqoxhQp3bVu4UavHbafTZkSWJw6EAumGSzBWQKVp/Xx4uOqBKwOFQAFmSON0XQZsRrodizctqCherReYX17E1+p3Ario8uKkGgL2tfs4MJHj+1iSpXIEjoenWaNMsplum2qVLHsbFQYH6tKvxyzbXlmtqTNNkOJZlOJalxe8op6Dys+o6pCUOabAoUtH7xDTLqRVYvK26aAgXIzkrwpLI6dRYZOo9Nm6NJxfdjmlKZbFUjXMDMfa1+LgxlqyI7EXSMY6EAhXbr3HbygMep7BZKlNSfqdaTsXVuVUmSzOP8gWTf39UdA8Jlo4QLoINQU7TkUpdDwXd4Kl/uYJuFM3n9rX6mEjkSOULFSZsOxo9eO0WMprOpeEEJi66QkFkmTmzVmbS7LejGyYtfse8U3dh9ecu7mvxCWv0GVgUmV/Y38TztyarFp3ubvZwcahyea3bWiEmP/WLe8r/ft2+Jv7p3BA/vj5BvcfGaDyDJEnltt4pzCXOfS7o5rLN4mSpmBI7OY/9/2RK48HOIG0BJ4oMxxc4/6ylCeczO46CLpVkTidfMPDYLGQLc8cHeOyW8vgBv1Nlc52LsXiWdF5nS72ba6NJ9rZ4KwqAD7b78dgs5REZLQEXPnuxdugNB1rwO8V5K1g6QrgINgRjsRT/7Z8u89iRdr57eYSCYaBIMqdLg9y6OgMMx7LsbfEyGMlit8o0eu2k8gXsqsK+Vl9ZrCxmJlfntpHK6+iLDCFazWjLpjoX/79f2LZq27vXyZba1INOFUWWVjSA8U0HmtlTatUF+Mczg5zoDnM0VBzweDgURNcNTvRGK563VP+blZQ6HWz3c6ZvfjECxW63lwZj7GnxLrheMqfR7LczFM1S47JS67YSSWvI6LQFHYSTeXxOlSOhAGf6IhQM2FTrIuiyYpGLNwGj8RyyJJVrxaYKfB1WC+cHw+xr8XFpOM7N8SQSxVoyXTfJFnSujMQ51B7g3a/oXME7IdjICOEi2BCMJgv0TKT49Dcv4bIqqIpErduGzSKxuc6D1aLQH87QTzEk7kflB9fGAXiwMwjytGBx2yx0hYLTlv6SVLZAPz8Y46WBGLI0f5fGNNOXLptFptZtYyyRRdNNZKm43aVccBVZ4nd/aQ/bW2tIpVK4XBu3xmXKFG4klqXVb+O1e5v5itfBO//X8SqDEOcKDK9d5Rf2NfPEq7ZUtDV/78ooH/7aeaBYjJrMFbCrRf+e2R4pHUEn9R4bg9HMnC6nhfe+OMlsYdERANdGEyiyxIXBONsbPOWRFtlZLdDRTIGOoJMmr51TfdFyyzNMF30PhtMMxXLIUjFCMxzL0htO47OrhEvFvCd6InSFAjitFi4OxSrGDiRyBR7cXMOpnjCGaaIVDCRJImC30NDmw+e0rGujQ8H6RAgXwYYgXzDoL/lH7Gh0I0syz92Y5FB7gFsTSeJZjc5aF90TKdxWhcyM+oGCYZa9KlRZwudUK6IlfqeKRZYqlukmtNe4iKSjONRi66pDlckWDBLZAo+/ohOPTaGtxoXDqlDnsWFVZMYTOc70hfGrBkPxPP/1H67w1sMtTCRy/OxmP5qus7kxwJ8/14NuwoH2AK/aXsvBjmJdh9VmvxNv57pFN0wsikyodlq8HeoI8CfvOMTv/uuVslb02C1zvEzefLCFj75+55zhkYmsxif++dKcOUBZzaDGZWUima0wi+sLF0dJdAQddNQ4GY3l5pi/FTvTlh5zURWJB9oDS2q9zxYMgi6VcErj6mii2OFTxQRxJJZlJJbFbbPQ5LMxHJvbDTUUy9HVGeRMX6Ti/bIoRedmzTBp8tmxyBK9kymafY6K96h7IoXLpuC0Wqj32vDYVXKaDrKEjMHm2tV1HBZsDIRwEWwIXNbpuzqH1cKZUoro3EAUl01hIJJhf6uPWreVeEbDZlHK05xVy7QHimaYdNa6KkRKOlcgP89t8CO7Gnjql3ZT41naF7THKvHqHQ3ouk7d2CR//55DbKpzoaoq6XQau8OFRZGosRp0NASxqgqKUiyCLBQKqJaN/ZGezxD4ZZtrsSpyWYB2hYKc6Y9iK/1tf+eX9vJLB1uqOgr/4PIwsgSRVJ7OGid1Hlu5dsSuykymqPDJmQog9IYzNHrt+J0qNW5ruX5qc52LgNOK3aJwqCPAQDjNaCKHQ5WxKDJZTZ/jJ7OtwcPp3siSpc7mOjfhVPEYs5qOxHR8T5HA41DL0SCPXcFuqe7toioSJ7rDHGjzMxjN0FnrQtMNVKXYeQdwvCdMi99B92Qaj91SMSyxyWfDZbUwmcozmcpT0E2CThVJVkiZEm8+FFriKxIIptnY33KCDcO2ejeqIoEJvZPTxZQPtAe4Nhqn0WfHpipsqXPTH0mzpd5DRiswHM3ywq1JOmtd1LqtXB1NzPHUaA04uTWRmr1L9rX4+NQv7l5WKNxht2EYBoYBdQEPNcg4HMUIQCAQwDRNJEliR0cjkiQhSVI5PWLZ4KIFQJbnN9rb0eiZdnmVipG0gmFysN0/r2gB+NKJoXINR1coyKY6V1m4tAQcZPIGbpuCRS6OadANE5e1OPfpUskXpi3gKHvH5AoG5wai7Gj0cH4wjiwVPVeSuQLdEyksssTWejemaXKjVPh7cSiO3SIv2IK/r8VHIlegxmUtC3OAlwaKXUBTheK7mr2cH4zjKNVuabpBXzjNvhZfRZfRoXY/BdOkP5xGkSXGErl5PWqmTvFEtsDx7jD724ouvROJLKf7Iuxo9DASz3J9LMn2Rg8NqsJ/efVWgrOiWwLBUhDfdIINgc2q8uFXtdNcF+S5m5N8+XgfbpuF3skU0UwBMoVyp0RXZ5AflupbpuieSNE7mcIwoeCdDpl3hQJYLTK5glFujwXwOVQOtPrKQmM5yLKMqqpYrVYMw6i4GE9ta2pZQTeQJWnVO5TuR37pgRb+z4w5RlB0dv3sW/YvOLvJMmMKZldnkHce66B7IoVpFiM8m+td/ODaBA9tqyOW1bg4FKfJZ+fy8HTHUn8kQ9BlxWlVsFokDrT5y6kXw6SiTV7TTa6PJdnW4KbeYyOT12n2O7g6OrczCoqiZ2Y0qbuKiC7MiOBouomjlA5N5Qs4VQsTyTyZvM7Pbq1lNJHDpsq8NBgrR36avHpFJGU2s03uzpUGKj7Q7mOr1cKlUrTpcEdxxMZD2+s41LG+JqYL7h2EcBFsCGRZ5t2v2o2mabxuXzPvONbBH37nOv96YWTOurfGkxzq8FMwTGQkZEkioxXKLbVTploBp1qcUZPTafE7+NAj26jz2PjB1TF+7Wg7xzbXrXiYoSRJc0RLNSz3uZX/avGtC8O0BZ3lgtpkrsBrdjfwyK5Gmrzzt+L2jk8PEazz2PjNn9+GIkvUuK38y/kRHmj3c7qvGD1J5rRypEMrGBxo81fMEzo3EKM96CzXm+yb0bFUjWujSTbXuWgNOMrdb7MpdhlFCToXLgT3OVUOtPmRJIhnNDbVuhiNZekPZzAxy8eVyutcGUmwu9lbka5yWBWOd4fZ2+KlL5yZM0Syxe+sWiNzYTCOTZ1OQ0UzeTJ5g/0tngWPVyBYiDUVLm984xs5e/YsY2NjBAIBfu7nfo7f+73fo7m5ubxOtbvRL3zhC7zvfe9by0MTbEAkScJqLV6kdjR6efKX9tIzmebycLxivYlkntaAs3zXOBurRSZU4ySW1oiULmrvONbBf/zZzQD86pHVMdNaTLQIls6RUJAzfWF2NXk53RflynCcp968h70tfhLJFIosY1Xnfh121HnYWu/m/GCMRq8dpSREf/eX9xHPaKiKzEPb6zjTF6GjZrogeCiWpdFn52hnkLxuYJgm5/pjFUWyS4mSyZLEQCTN0c4gqVyBq6OJCkGRzumoilR1IvNMJhK58nwmSYKA00prwIEswdn+GNvqPfSF0+XOootDcXY0evA5VAp6cSCpBJwfLM57imU0tja4iaTybK13V8x+2tXkQTfMsjdL72SaRLaA126hyWtHNwx2NgfmHKNAsFTW9Jvx4Ycf5itf+QpXr17la1/7Gjdv3uRXfuVX5qz3zDPPMDw8XP555zvfuZaHJRAAEHRZ+Yv/6wjOKkPnfA6Vrs4gRzuDdHUG2d087Ymxv9XHtdEko4kcj+xq4MWPvIr3vFJ4UaxXNE0j4FR5eHs9r99XvGk62B7g8lAMSZLwuF1VRcsUU5G2rfXT07W9dpXHXxEikS1gGCbb6j041MrzyDDhxe4wZ/qiXBqML+r/U41iysjDpeE4F4biKHIxzdTgsfFAu78sZAqmyUPb69jV5C3Wcs1ieIZhnWkWBye+NBDDalFwWZXyawy6piM3V0YS6IbJqb4ovZNpHmgvio16T7FzLegsmvWd6IlUTB5321SujiZ5sTvMpaEY7UEHr9xaSyav8+Mbk2yq8+C0iWC/YOWs6dnzm7/5m+V/d3R08Fu/9Vu86U1vQtM0VHX6A+L3+2lsbFzSNnO5HLncdEgyHo8vsLZAsDANXjvf/8AruTmR4Q++c53jPWEcqsLVkTgjM2zYu0IB3FYFh9XC2f4oiizxK4daedP+Jhp8oqVzPTPzu+bdr+gkksxyqCPAN18a5ud3NhCs0vH1lZP9TCRz7G/101Mq5n6sqzKSFs/oBJwKz98M017jKtdIAbQFHERm+KJohsnErMLWpXYIjcSyBJxWEtkCWc3gbH+Un9laW1Eom9UM0jmdS6XoYY3LiqoUi7clinVW7UEHTTPalTtrnVhkiZ1N3nJKS0LCZpHZ0+LDZVM4UVrXapHLLd3nB6Ic7giQ1YpF6gXDpC+cpitUjC5Z1en7YYtSNHkszCgq3t/mX+IrFwiqc8dkbzgc5q//+q952cteVvFFAvDEE0/w+OOP09nZybvf/W7e+973zhsmf+qpp/jkJz95Jw5ZsEFo8Lto8Lt4cFMNP7g6xuXhGBZL0XtCK+g0eKxcGEqi6QZNfgd7mzwcDQXY1uzHbV/MZE6w3vjAIzuQZYmDHUHyBYOspmOfES0ZiWX4f/7uJYBy9MJts3CoozK94XNa0AzY1eLnxlgSu6rgtZt01LjIaDo3Zg1KTGQ1Drb5CafzWGRpyTONboyn2NNc6YIbzxQqxhjIEqTz0wZ7M83kZtLonRZpdR47P71ZHJTY5LPREXQRy2jkCkZ5ECPAA+1+TCjX76S1YlfUVAQGihGc46kwhzsCJGdM124JOBiJZcv2ATUuK167iLYIbo81P4M+/OEP8/nPf550Os2DDz7IN77xjYrHP/3pT/PqV78ah8PBd7/7XT74wQ8yMTHBb//2b1fd3kc+8hE+8IEPlH+Px+O0tbWt6WsQbAxkWeJVOxt41c6GOY+9fj9ktQKqLJHJ67gdYrbKvcpUwbTfaUUr6KgWhUQmh6fUdv7FH95kW4ObB0p29C0BB+f6Y+X6lilO9kbpnUhjVxV8DhWP3cJQLIskQXPJlC2azjMSz7G5zsXN8RTjM/x/9rcuXJw7Rb3HRq3HRtBlJZLOY5qQzBfY0egpixfDLBrPdXUGuTaamNexN6NNt/InssV1Ak6VgNPKC6WJzl2hIPGsVt726b4oXZ1Btja48TlUhqKZclpMksClKuxo8uK0KlwbTZArGOxu9qKXitvbAg4mknkUWeI3Xr2FXc0LjyIQCBZDMs1FBqrM4hOf+MSiEY8TJ05w+PBhACYmJgiHw/T29vLJT34Sn8/HN77xjXlbRD/72c/yqU99ilhs/qmlM4nH4/h8PmKxGF6v+EAIBIKlU61z60J/mD1tC9ejZPI6n/7mJZ67NkZfpJhCaQs66A9nONwRKLcmN3htbGvwMBzLzonAzHTbrcah9gC6aeBQFZ4vzcna3uApt0XXeWzkCjrxTOUog/agE4cql7vfZj/WF04jSXCwrdgRdagjUBFhAdjZ5Klo53ZaFVRZIpat3FdbwEG2YDCeyLGzyYNpUhEJqvfYkCWJkXiWt3W18Ttv3jfv6xVsPFZ6/V52xOWJJ57gscceW3CdUChU/ndtbS21tbVs27aNnTt30tbWxgsvvMCxY8eqPvfBBx8kHo8zOjpKQ8PcO1+BQCBYLaqlpBcTLbG0xoe/9hLhdJ56r51YVidf0Gn1O6h12cqiBWA0nsNrV+eIFqiscfE7VVr8DiRAUSTsFoWz/VFyBYPDHYHyOArfjLbn8USOoMvKz2yt5fxgrNzh1hdOY5El9rf56JtMl5crEmilmVqmCZZSBGkkluWBdj83x1PEMhrbGzwEnVZ2NHoYS+TIaTqpvM6WOtcc4WJTlfIojWhaqygChqJL8JToev9Dmxd8XwWCpbJs4TIlRFbCVHBnZnHtbM6cOYPdbsfv969oHwKBQHA7GIZJOJ3nG+eGONMfxarI/D+Pbqeu1E3z8X++QDSTZ1u9mzcfbGJvW5Bvnh/mU1+/xKZaF26bQjI3nZIZS+TK0Zj56Ag6y9GXVr+DgRlmhid7IxwJBeieSHG8O8zRziC5gk6uYNAfTvOj6xMEnGpF6qhgFNuvdzR6qPfYuTqaoCVQjLZYFYn2GhfRkhfLYDRDQTdQZIltDW6ujia4OlrctyIV00GtATv///buPDrK+l78+PuZfUtmySSZTHYT9l1WFXcLXEUsapWfXov3KranWn+2iF08Vmqt9Wq5dvFwaL22P6/tOXpt1RYpFr0FFFHCFkSxrAlJIPskmck2M5l5fn8kGZgsbJLATD6vc+Yc5nm+zzPPJwnkw/N8v59PY2v8v9u5TjP6nuQn12kmy2HCatTRFgxT3RLEoNNwrLmD4gwrM/MdZDtkErs4P4ZsjktJSQklJSXMnTsXp9PJkSNH+NGPfkRRUVHsbsvatWupqanhsssuw2w2s3HjRh5//HEeeOABjEYpBS2EGD5bDzXw3x8f5aPDDQROurNg0Gkw6jRMy7XzSVkTz942Gb2GWI8ogK9OzebyS9J49I3SuKQFoKUjjE6jMLvQhUGrEIp09xW3GTXd23SauAmtoUh8TZZL3FbqTlrhtq3Mx6wCF6Un1Rlqag/TForElfaHE49tsuwmjLruRCQUUTlU14rzpLs3+W4rJWU+fH0m9UZUQIXMFDM7m06ct3vFEtT5O5ma6+ienFvW0weq0EWwS6UwzcrOiiacFj0PXlssdYnEeTNkP0lms5k333yT66+/njFjxvDv//7vTJw4kc2bN8eSEr1ez+rVq7nsssuYPHkyv/zlL3nqqadYtWrVUF2WEEIMaO2e47z7eU1c0gLdncUL3FYyU00UZdgIdHbFJS29MlJN/Oaemcy5pP+jpsa2ENvKfOw51sK2Mh8lZT4aWsNsK/PR1BZi90kVdls7w0zLczAuq7u6bKpZz9F+3Z27714XZ1iZnGPHbtaRYTPSFVEpSLPERk3wpuK2GTDqNLSHulc8ZaQYsRo0sUdIAP6OEGM93Z+X4zxxZ8Rm0OIw6zhSH99uoCDNSoWvg8b2MA2BIJmpJ/6jGY2qFGfY2FnRncjMm+Ah22lFiPPlrCfnXmxkcq4Q4nxQVZUXNx4CVcVi1DMp206lr529x1r44Y3jMOjO7P95/s4wX33xo1jjzXFZKaT2LJvfXdEU6yTe29Swb2sAALNeg6Wnq/JAk3izHSbSU4xxd10AZhY4+aI6wOhMG3urmpme7+KTPv2F9FoFq1FHoduK3aSjLRShvLGdid4UwhE4XBcg321FVaG0shmDTkM0qjLBa6ek/MS5puY4KK2Kv27obmZZ5WuntacZ6Yr5Y3jw2uIz+tqJkWXYJucKIUQyUhSFb183Km7brEIXt03POavzpJr0rLpjCotXb4293zZQc0Kl93OJdZbupdNqYrVY/lkTYHahK+4cx5o7yXFa6CscUWkNdrGroplUk45/1ga4cpSbznCEUFeUrqjK58f9NLd391WaUeAkElXxpBrZdsRHZqqJTLuZ0spmOsPdFxTsubA9Vc2Y9Ro6wlGm5NgHTFp6jfaksLuyGVUFt01KB4jzSxIXIYQ4z6blOVk8zcuGz2sHHdNbEOLTqhbsJj2+QWqvBAfpQ3RyTZZehpPK/ft7Hnl1hiOxeS8WvYY5l7joiqg0d4QIhiPsPebHYzeh1WqobGqnrLGdGQVOdpTHL5EOdkXJshvpaAnGVicNdl3/rAlgM2oZ60nFbtScU5d0IQYjiYsQQgyBf7uikLd2H6c91MWsAhdRVY1bKt37izwSVSnKsOE7KVEoSLNg0Glp6QhzqK6VpvYQM/IdaBQN9a2dpNkM7Chvjvs8s0GLRqOQ7TST4zhR2v/kuSyhSBQNCnuPNRHsUmP9k2paOpk7yk0oHOVYcwfaQZKMPJeVbIclLo6+eivjtva0IPjKBK8kLeK8ksRFCCGGwKRsO/lpFvYe6+4flHKKUvellc14HSbynBaaO8KxYyZld1fX7Yqq7DjaHBvv7+gizWqIK+0/OdvOJ0d8aBQwak/Mx9FroNBtRadRiKgqW480xurCnKy5LRTr8ux1mOL2mQ1aCtOsHKgNMME7eMXf4gwb+07qFD06MwWtVlYTifNLEhchhBgCiqIwKiOFo43t5LssRFWVNKuBSl87EfVEXSvonptyvLkTVVWpbjmx9Fmhu8JtpM8aisa2ENeMdlPfGuLz435sRl3sDotZryU9xUh6ioFwRGV/TYCuqBr3yKl3+XVbsCt2zNHGE4nM9vImrhmTTlVTB1aDln3VfvZV+5lbnIa/Y+A+SACH6lpxWU489rptmvccv3pCDE5SYSGEGAI7j/rYcdSH22bAYzdR2dRBeWN30gKg6fP4xGM3xSUt0L0CKBJV+bRnVZFZ311PpijdSktHF8eaO7iiOI1puXbGZ6WiAF3RKNvKfHSEIoQjUcZlpcZWRGk1CtkOM+O9KcwqdOE0G1CU7nkpua74yb7BnkaRe6paCPdc9JZDjVT7g8wqdGI19F8SPjrTFusFpdUoLJgkiYs4/+SOixBCDIHN/6xlVIYNi0HL5gMN/Qf0mfZRHwjGFZBTgJbOrrh2AR67md09S6DzXBaa28McbWjHYtRyoLYVRYGidBsWo46y+rbYo6TMVCMz8p3sqWohM9UYdz0FaRbCURWb8URBuswUI13RgStl1AeC1AeCWAxaZhW4KG9soy7QnXAZdJpYJ2itRiEaHXwSrxDnShIXIYQYAleMSudXG4+Q6zIzKTs1Nm9lep4DRVHiehXZjDrGe1Mx6zVcmudAr9WgANvLfUzwpmI16GgPdWE360mzGthxtAlVVUkxagl2RXGnGJlV6EJVVTSKwsG6VswGLfQ8/cl1Wth0oB5VBV9bKG55dZ2/e2m12aBhgjeVw3Wt1AaCpJh0/ZZpn6w9FKGk3IdWozAtz0GgI4z+pPks0ajKf39czooF44bgqytGMklchBBiCEzJdXL92AyaO8JYDVqm5zsBlX3HA3SEI1ya50BRIM1qoCjdNmCtl2yHCRTiCr9N8HZXuK1s6uDq0W6ONLRxuL6VQGcXYz0pHKprpSuqkq4YcVj0+DvChCNRTp4m0902wElJeRPt4SiBYBcHDzbExmSkGIkCk3Ic7K5oPmWckagaGzMmM4VpuXZKK1voiqqM9UhRUHH+SeIihBBDwKTX8sTC8Xzj1R3sHGD5sEGrZXqek8P1rfg7B67hkplqYlefxOHkRzoH61pxWgykmvSY9N1zTkZl2qjydRBVVS5xW1EUBbO+/3TG8sb2WO+kXJc5rrNzXSBIXSBIRsrZ9YzbX9vdGiAjxUiB24pR338ejBBfliQuQggxRArcVtZ++0pu+tWHHOyZq1KQZsFhMRCORtjZs8Q5GI7gthli80N66bQa8lxmKno6Sxu0ClVN3X/WaxVGZ6RQ0dRGQyAUKzg3OtPGGI+Nz475URTwd4T5/Fg7U3LtGLQaFEXhaEMbiqJweVEaTe3h2Dl7uax6chwWPjse31LgTBn1GlbMG83UXMc5HS/EqUjiIoQQQ8ig0/Df983i7pe2YdBp0GoUSiubmZbniI1pD0dRlAgpJl1ck8eSMh9TcuyxxKXAbcFlNeIw66jwtbPpQD2jMm1xE2ktBh07jjZz1ag0THotLrOObIeZTQfqY2NSTDoyUozsqw5QFwgyI9/J8eYTd1xUFcp9bQwyPzdGp1FwWg2Y9BqiUdBpFabnOXn4+lEUuKWxohgakrgIIcQQy7KbuWt2Ls//fT+RqEpmihH61GZpC0WYXejiYF0AX1sYo05DUbqV2kAn+WkWAp1dmPU6PjnSPd+ldznywdpWchxmDNowLqsRq1GLRgG3zciYzBRKyhqJRKJk2U1kpBoxaDXsrw1wuL6N3g4BnV3x7QOa2sNMz3fGHnFpFLhyVDrzJ3iYW+wmo6cbtEZRYkute+vSSJVcMdQkcRFCiGFw/5VFeB1mfvvBEfRazYDzP3xtIUw6LTZjtKdkfiBuf3H6ibsYUVVlbnEaVT31YQAMOi1VvnZWLprAkpl5qKjUBoLsO96C06JnT2UL0/Oc+Du67+r01pQx67UUui2UNbTHzv9pVTNTcx0Uuq08eG0RxRkpp4xPEhYxXCRxEUKIYXLjJC839hRli0ZV1n56nB/95XNaOron51b62glFogM+opmR7+RAzzwZg07DWE8qHx9u5PIiNxaDDr1WIRyJMn9CFtvLm7hjRi4mvZZ0m5G2UBSbsfufe91JjRgL0ixYDDr21wTIT4svQBeOqFya5+SHN45FJ2X7xUVEEhchhLgANBqFW6ZmU5xhY+Gvt3DzZC//Z1Yenx1r4Vf/e5C2UBcFaVbqAp20BiP4O8M095TSL0yzcrAuQESF9nB3M0OAK4vdpFp0LJ7ioTMcYe+xFp7bsJ/vzR+N22Yi1aQjEIwwOdtOOBrFotexs6L7cVD9SRODFQUev3Ec9195yfB/YYQ4DUlchBDiAirOsLH50WuJqioFbiuzC118bUYOoUgUVFi3t5pn/vYF5p5HS2a9lkAwTGuwe16KRgGHRc/SywpYdtUlsTsrn1Y1s/x/Snn21kl0hLoId0XYc8yPw6yPrXAan5WKVa9hYo4jVkfGoNPwizuncuOkrAvw1RDi9CRxEUKIC8io05J30mMajUbBYTHE3v/bFYVMz3fy/z4qp7yxnY5wJK7PUWtnFy99fQYzC1xx552c4+CDx66jM9RFezhKWUMrRp0Gg06DonTPDd5X7efyorRYp+hRGVZ+dPMErhyVPsRRC3HuFFVVT7Pg7eLm9/ux2+20tLSQmipVGoUQycvnb+P59w9TUubjcH0bswtdrJg/hhl9kpbB1Pk76QxHueu/PqGqqYMFEzJZMNHD/so6RjkUrpxQSHqaY2iDEKLHuf7+lsRFCCESjKqqvPNpNQsmeuL6A52pv+45jk6j8L9f1FGcbmFWoYtL812yMkgMq3P9/S2PioQQIsEoisLNU7znfPyinmNn5ju48dcfsWRWPtFoFK1WSvSLi58kLkIIMUI5zHqeWzwOp/XEnJpoNIpGI8ufxcVLfjqFEGKE0ut1XD02/s6NijwuEhc3SVyEEGIE02i6E5VoT9U7bc/7mpb2QY8R4kIalsQlGAwydepUFEWhtLQ0bl9FRQU333wzVqsVt9vNww8/TCgUGvhEQggh+vm0sulLn6M3gYHuyb8ZKeYvfU4hhsKwJC6PPfYYXm//iWSRSISbbrqJtrY2tmzZwmuvvcaf//xnli9fPhyXJYQQCe/jQ/XctuZjDtYGTj/4DCmKEktkVFUl3BVhR7nvvJ1fiC9jyBOX9evXs2HDBn7+85/327dhwwb27dvHH/7wB6ZNm8YNN9zAqlWreOmll/D7/UN9aUIIkfCO+joIR1QaWoNDcn5FUfjHP2u587ef8JfSY0PyGUKcjSFNXGpra1m2bBmvvvoqFoul3/6PP/6YiRMnxt2NmT9/PsFgkJ07dw54zmAwiN/vj3sJIcRI5bUbAWgPdQ3ZZ1xW6GBmgZPv/s8efvHeAbq6IkP2WUKczpAlLqqqcu+99/LNb36TGTNmDDimpqaGzMzMuG1OpxODwUBNTc2Ax/zsZz/DbrfHXrm5uef92oUQIlE49FFW3zGB68d5huwzdDo9P100HlVV2VnRhE4n9V7EhXPWicvKlStRFOWUrx07dvDrX/8av9/PD37wg1Oeb6BKjaqqDlrB8Qc/+AEtLS2xV2Vl5dmGIIQQSWPyJVnceGnBkH6GRlFwWvX8+ObxLJmWOaR3d4Q4nbMuQPfQQw+xZMmSU44pKCjg6aef5pNPPsFoNMbtmzFjBnfffTevvPIKHo+Hbdu2xe1vamoiHA73uxPTy2g09junEEKIE7q6uqioa2ZfbTsLp+V96fOZDDragmE2H2wgHFHZUh7gmcUTpUWAuCCGrFdRRUVF3PyT48ePM3/+fP70pz8xe/ZscnJyWL9+PQsXLqSqqoqsrO4W6q+//jpLly6lrq7ujHoXSK8iIYSIFwwGebf0KNdOyCHV1n9+4blQVZXtR+oxGfSMy7Kj10kZMPHlXHS9ivLy4rN8m80GQFFRETk5OQDMmzeP8ePHc8899/D888/j8/l49NFHWbZsmSQhQghxjuqa2znWGuWF9Xt55KapoCjYzYbTHncqx+qbmJzrwmSQTjHiwrqgP4FarZZ169bxrW99iyuuuAKz2cxdd9014NJpIYQQZybU4ef59w+jqnCwZTcWg45FU73MLnCQnnp2d2Be21ZOnsvCS1vKaekIs3LhWCbnpQ3RlQtxekP2qGi4yKMiIYSI9/Sb2/mvkrp+2ydl27m8KI1vX1+Mzajvt9/XFmLr4QY0KPz982rGZKXy3Lv7Y/tnFbpAVXntgTnSiFF8aRfdoyIhhBAXxg0Ts/slLrMLXWwr89ERjvDXPceYme9i0aR0MuwWapvb2VYRoLk9yF/2VDM+K5WG1u4/98pPs+BrDTIh2y5Ji7igJHERQogkMyozFatBS1uou1DczAIn28p82Iw6jja0MS3PyV8/reZYcwcpRg2flPnwOiyUNbbz1SlZrP+8ljGZKdjNevZVB9BrFY43d1foTbMZ6YpE0WkleREXhvzkCSFEkkmz27i+sHsuy6TsVLaXdzdh7AhH8DrNRFSVMZk2/lkTYNNBH5NynPjawkzLdXDU10GGVc+eqhb2VQe4Zkw6Rek2wpHuWQUOsy7WQVqIC0ESFyGESEIPXj8GBTDpT1S5jURVKn3thLoitIUiTMi2M8aTwoHaVpo7wuyqaKa+NYjJqGd6vpMZBU4qfe10hk+U+O/sGrxAqBDDQR4VCSFEEhqTl8n9l+ey6VATMwucKIpCNKrS2BYk0NlFnb+TqqYOzHotdoseu1lPXpqZfccDVPo64s41q9BFeWM7eo1CUPoUiQtMEhchhEhSj944gR2/+Tj2qOhkRelWDte3MSnHTkmZDwCDTsFm1OFrC8WN3VvVwvR8JzajlqI087BcuxCDkUdFQgiRpIw6La/eP4dRGbZ++3KdFqblOfii+kSF80N1bTQEOplV4Oo3fndFE9vLmzja526MEMNNEhchhEhiNqOOr07Lpu+0lEBnF7srmgl0xjdMbA9HKSn3MSPfybisFAC6olFSTDpuv9TL2KxUOjuDw3X5QvQjiYsQQiSxYDCERdPF/PHxjWs7woPPVfGkGjlQG+CL6gAz8p1My3GgVRSWzxvL5Bw7qtRxEReQ/PQJIUQSMxoNlFS2kZlqYkzmiUdG9a2D3zXxOsz4e+7E7DjaRAQwG7SkmvXMKnBi1GkHPVaIoSaJixBCJLnZhS5e217J/tpWekuwFGdYmV3owmGJL/1flG5l77GW2PtZhS52Hm1iwQQPja1BnDazVM4VF5SsKhJCiCS3aEoWr35ylMP1bURVmJprp+SIj4gKeq3ClFw7Rq0GFAWDVsGiA6vZiAIYtBomelOxGDSs/6yGey4ruNDhiBFO0mYhhEhyLpuJmyZlxd4bdVp6CuESjqjsqWyhsqmDkjIfWw41otPp8KSaMOk0dEWjlDe0sXBSliQt4qIgiYsQQowA919ZyOVFaQB8Ue3Hoj/xz7/bZkCl+zGR06LHZtRjNWi5vDid79wwihdun8Bzf98/yJmFGF6SuAghxAiQajbw6n2zuXq0m66oSpbDzKxCF7MLXei1GmpaOjlc30Z7exh/MEymw8ztl3qJROHZ9w7jtOiJRqMXOgwhZI6LEEKMFFqNws9vn8RP1n3Bur21lDV0z3k5WYbLzMw8BxMybXR0qcy6JI0nbxqD1y6TcsXFQX4KhRBiBElPtbDimlzGe2xMyk7tt7/IoeOGsW7+WFKJ12FGURSuGptFcZZj+C9WiAHIHRchhBhhcrMyuO1SP4pGy+RsPzaTgVc/qUBVVb4zfxxpFh3/99rCC32ZQgxIUVVVPf2wi5ff78dut9PS0kJqav//PQghhBhYe0cnikaD2WigPhCkpSNEUboNpW9/ACGGwLn+/pY7LkIIMUJZzCZ6/++anmIkPcV4ga9IiNOTOS5CCDGCyd0VkWgkcRFCCCFEwpDERQghhBAJQxIXIYQQQiSMYUlcgsEgU6dORVEUSktL4/YpitLvtWbNmuG4LCGEEEIkmGFZVfTYY4/h9XrZs2fPgPt///vfs2DBgth7u90+HJclhBBCiAQz5InL+vXr2bBhA3/+859Zv379gGMcDgcej2eoL0UIIYQQCW5IHxXV1taybNkyXn31VSwWy6DjHnroIdxuNzNnzmTNmjWnbOQVDAbx+/1xLyGEEEKMDEOWuKiqyr333ss3v/lNZsyYMei4n/zkJ7zxxhu8//77LFmyhOXLl/PMM88MOv5nP/sZdrs99srNzR2KyxdCCCHEReisS/6vXLmSH//4x6ccs337drZu3crrr7/OBx98gFarpby8nMLCQnbv3s3UqVMHPXbVqlU89dRTtLS0DLg/GAwSDAZj7/1+P7m5uVLyXwghhEgg51ry/6wTl4aGBhoaGk45pqCggCVLlrB27dq4qoyRSAStVsvdd9/NK6+8MuCxH330EXPnzqWmpobMzMzTXk9LSwsOh4PKykpJXIQQQogE0Xvjobm5+awW5Zz15Fy3243b7T7tuF/96lc8/fTTsffHjx9n/vz5vP7668yePXvQ43bv3o3JZMLhcJzR9QQCAQB5ZCSEEEIkoEAgMLSJy5nKy8uLe2+z2QAoKioiJycHgLVr11JTU8Nll12G2Wxm48aNPP744zzwwAMYjWfW7Mvr9VJZWUlKSspF33OjN7sciXeHJPaRGTuM7PhHcuwwsuOX2E8fu6qqBAIBvF7vWZ3/gnaH1uv1rF69mu9+97tEo1EuueQSnnrqKR588MEzPodGo4klQokiNTV1xP0g95LYR2bsMLLjH8mxw8iOX2I/deznUrdt2BKXgoIC+k6nWbBgQVzhOSGEEEKIU5FeRUIIIYRIGJK4DCOj0ciTTz55xvN3konEPjJjh5Ed/0iOHUZ2/BL70MV+1suhhRBCCCEuFLnjIoQQQoiEIYmLEEIIIRKGJC5CCCGESBiSuAghhBAiYUjiIoQQQoiEIYnLl/TBBx9w88034/V6URSFt99+O26/qqqsXLkSr9eL2Wzmmmuu4fPPP48bEwwG+fa3v43b7cZqtbJo0SKqqqqGMYpzc7rY33zzTebPn4/b7UZRFEpLS/udI1Fjh1PHHw6H+d73vsekSZOwWq14vV6+/vWvc/z48bhzJGr8p/ver1y5krFjx2K1WnE6ndxwww1s27Ytbkyyxn6yb3zjGyiKwi9+8Yu47YkaO5w+/nvvvRdFUeJec+bMiRuTqPGfyff+iy++YNGiRdjtdlJSUpgzZw4VFRWx/ckae9/vee/r+eefj405X7FL4vIltbW1MWXKFF588cUB9z/33HP853/+Jy+++CLbt2/H4/Hwla98JdYcEuCRRx7hrbfe4rXXXmPLli20traycOFCIpHIcIVxTk4Xe1tbG1dccQXPPvvsoOdI1Njh1PG3t7eza9cunnjiCXbt2sWbb77JgQMHWLRoUdy4RI3/dN/70aNH8+KLL7J37162bNlCQUEB8+bNo76+PjYmWWPv9fbbb7Nt27YB+7AkauxwZvEvWLCA6urq2Otvf/tb3P5Ejf90sR8+fJi5c+cyduxYNm3axJ49e3jiiScwmUyxMcka+8nf7+rqan73u9+hKAq33XZbbMx5i10V5w2gvvXWW7H30WhU9Xg86rPPPhvb1tnZqdrtdnXNmjWqqqpqc3Ozqtfr1ddeey025tixY6pGo1HffffdYbv2L6tv7CcrKytTAXX37t1x25MldlU9dfy9SkpKVEA9evSoqqrJE/+ZxN7S0qIC6vvvv6+qavLHXlVVpWZnZ6ufffaZmp+fr77wwguxfckSu6oOHP/SpUvVW265ZdBjkiX+gWK/88471X/9138d9Jhkjr2vW265Rb3uuuti789n7HLHZQiVlZVRU1PDvHnzYtuMRiNXX301W7duBWDnzp2Ew+G4MV6vl4kTJ8bGJKuRFntLSwuKouBwOICRE38oFOK3v/0tdrudKVOmAMkdezQa5Z577mHFihVMmDCh3/5kjr3Xpk2byMjIYPTo0Sxbtoy6urrYvmSNPxqNsm7dOkaPHs38+fPJyMhg9uzZcY9UkjX2vmpra1m3bh333XdfbNv5jF0SlyFUU1MDQGZmZtz2zMzM2L6amhoMBgNOp3PQMclqJMXe2dnJ97//fe66665Yt9Rkj/+dd97BZrNhMpl44YUXeO+993C73UByx/4f//Ef6HQ6Hn744QH3J3PsAP/yL//CH//4R/7xj3+watUqtm/fznXXXUcwGASSN/66ujpaW1t59tlnWbBgARs2bGDx4sXceuutbN68GUje2Pt65ZVXSElJ4dZbb41tO5+xD1t36JFMUZS496qq9tvW15mMSVbJFns4HGbJkiVEo1FWr1592vHJEv+1115LaWkpDQ0NvPTSS9xxxx1s27aNjIyMQY9J9Nh37tzJL3/5S3bt2nXWcSR67L3uvPPO2J8nTpzIjBkzyM/PZ926dXG/yPpK9Pij0SgAt9xyC9/5zncAmDp1Klu3bmXNmjVcffXVgx6b6LH39bvf/Y677747bm7PYM4ldrnjMoQ8Hg9Av2yyrq4udhfG4/EQCoVoamoadEyyGgmxh8Nh7rjjDsrKynjvvfdid1sg+eO3Wq0UFxczZ84cXn75ZXQ6HS+//DKQvLF/+OGH1NXVkZeXh06nQ6fTcfToUZYvX05BQQGQvLEPJisri/z8fA4ePAgkb/xutxudTsf48ePjto8bNy62qihZYz/Zhx9+yP79+7n//vvjtp/P2CVxGUKFhYV4PB7ee++92LZQKMTmzZu5/PLLAZg+fTp6vT5uTHV1NZ999llsTLJK9th7k5aDBw/y/vvvk5aWFrc/2ePvS1XV2OOCZI39nnvu4dNPP6W0tDT28nq9rFixgr///e9A8sY+mMbGRiorK8nKygKSN36DwcDMmTPZv39/3PYDBw6Qn58PJG/sJ3v55ZeZPn16bD5br/MZuzwq+pJaW1s5dOhQ7H1ZWRmlpaW4XC7y8vJ45JFHeOaZZxg1ahSjRo3imWeewWKxcNdddwFgt9u57777WL58OWlpabhcLh599FEmTZrEDTfccKHCOiOni93n81FRURGrXdL7F9rj8eDxeBI6djh1/F6vl9tvv51du3bxzjvvEIlEYnfeXC4XBoMhoeM/VexpaWn89Kc/ZdGiRWRlZdHY2Mjq1aupqqria1/7GpDcP/d9E1S9Xo/H42HMmDFAYscOp47f5XKxcuVKbrvtNrKysigvL+eHP/whbrebxYsXA4kd/+m+9ytWrODOO+/kqquu4tprr+Xdd99l7dq1bNq0CUju2AH8fj9vvPEGq1at6nf8eY39rNYgiX42btyoAv1eS5cuVVW1e0n0k08+qXo8HtVoNKpXXXWVunfv3rhzdHR0qA899JDqcrlUs9msLly4UK2oqLgA0Zyd08X++9//fsD9Tz75ZOwciRq7qp46/t4l4AO9Nm7cGDtHosZ/qtg7OjrUxYsXq16vVzUYDGpWVpa6aNEitaSkJO4cyRj7QPouh1bVxI1dVU8df3t7uzpv3jw1PT1d1ev1al5enrp06dJ+sSVq/GfyvX/55ZfV4uJi1WQyqVOmTFHffvvtuHMkc+y/+c1vVLPZrDY3Nw94jvMVu6Kqqnp2qY4QQgghxIUhc1yEEEIIkTAkcRFCCCFEwpDERQghhBAJQxIXIYQQQiQMSVyEEEIIkTAkcRFCCCFEwpDERQghhBAJQxIXIYQQQiQMSVyEEEIIkTAkcRFCCCFEwpDERQghhBAJ4/8DXzRklnZETRkAAAAASUVORK5CYII=",
      "text/plain": [
       "<Figure size 640x480 with 1 Axes>"
      ]
     },
     "metadata": {},
     "output_type": "display_data"
    }
   ],
   "source": [
    "# We store the LGA shapefile locally\n",
    "lga_file_path = \"../resources/LGAs/LGA_2022_AUST_GDA2020.shp\"\n",
    "lga_df = gpd.read_file(lga_file_path).to_crs('epsg:4326')\n",
    "lga_df.plot()"
>>>>>>> main
   ]
  },
  {
   "cell_type": "markdown",
   "id": "5bb59b24",
   "metadata": {},
   "source": [
    "## Choose the LGAs to validate\n",
    "\n",
    "Edit the next cell to choose a subset of LGAs over which to load the flood extent map. Set an empty list to load the full flood map.\n",
    "\n",
    "**WARNING: loading too large an area will likely fail due to memory limits.**"
   ]
  },
  {
   "cell_type": "code",
<<<<<<< HEAD
   "execution_count": null,
   "id": "b9f366ac",
=======
   "execution_count": 9,
   "id": "75ea2875",
>>>>>>> main
   "metadata": {},
   "outputs": [],
   "source": [
    "# EDIT THIS CELL: Set the list of LGAs to load or leave blank [] to display whole map\n",
    "selected_lgas = []\n",
    "#selected_lgas = [\"Newcastle\", \"Maitland\"]"
   ]
  },
  {
   "cell_type": "code",
   "execution_count": null,
   "id": "cdc2fb14",
   "metadata": {},
   "outputs": [],
   "source": [
    "# Extract the outer bounds of the chosen area\n",
    "if len(selected_lgas) == 0:\n",
    "    # If no LGAs specified, select the bounds of all patches\n",
    "    print(\"[INFO] Selecting bounds of all patches.\")\n",
    "    boundary_box = box(*grid_sel_gdf.total_bounds)\n",
    "else:\n",
    "    # Or select the bounds of chosen LGAs\n",
    "    print(\"[INFO] Selecting bounds of chosen LGAs.\")\n",
    "    lgas_filtered_gdf = lgas_sel_gdf[lgas_sel_gdf.lga_name22.isin(selected_lgas)]\n",
    "    boundary_box = box(*lgas_filtered_gdf.total_bounds)\n",
    "boundary_gdf = gpd.GeoDataFrame(geometry=[boundary_box], crs=grid_sel_gdf.crs)"
   ]
  },
  {
   "cell_type": "markdown",
   "id": "6d4fc679",
   "metadata": {},
   "source": [
    "## Load the floodmap of the selected area\n",
    "\n",
    "First load the floodmap and clip to the selected area."
   ]
  },
  {
   "cell_type": "code",
   "execution_count": null,
   "id": "a7c7a9e9",
   "metadata": {},
   "outputs": [],
   "source": [
    "# Query the floodmap name on GCP\n",
    "query = (f\"SELECT data_path FROM postproc_spatial \"\n",
    "         f\"WHERE session = %s \"\n",
    "         f\"AND mode = %s;\")\n",
    "data = (session_name, \"flood\")\n",
    "tmp_df = db_conn.run_query(query, data, fetch=True)\n",
    "floodmap_path = tmp_df.iloc[0][\"data_path\"]\n",
    "\n",
    "# Load the flood map from GCP\n",
    "print(f\"[INFO] Loading the floodmap:\\n\\t{floodmap_path}\")\n",
    "floodmap = utils.read_geojson_from_gcp(floodmap_path)\n",
    "\n",
    "# Clip the floodmap at the boundary and delete the original\n",
    "floodmap_clip = floodmap.clip(boundary_gdf)\n",
    "del floodmap\n",
    "gc.collect()\n",
    "\n",
    "# Plot the floodmap\n",
    "plot_utils.plot_floodmap(floodmap_clip) "
   ]
  },
  {
   "cell_type": "markdown",
   "id": "4529b5df",
   "metadata": {},
   "source": [
    "## Query the available satellite imagery during the flood period"
   ]
  },
  {
   "cell_type": "code",
   "execution_count": null,
   "id": "ea8bf893",
   "metadata": {},
   "outputs": [],
   "source": [
    "# Format the boundary into a multipolygon\n",
    "region = boundary_gdf.unary_union\n",
    "\n",
    "# Run a GEE query for Landsat and Sentinel-2 data.\n",
    "#  producttype can be 'both', 'S2', \"Landsat\", \"L8\" or \"L9\".\n",
    "#  add_s2cloudless adds a column that indicates if the s2cloudless image is available.\n",
    "flood_images_gee, flood_collection = ee_query.query(\n",
    "    area=region, \n",
    "    date_start=flood_start_date, \n",
    "    date_end=flood_end_date,                                                   \n",
    "    producttype=\"both\", \n",
    "    return_collection=True, \n",
    "    add_s2cloudless=True)\n",
    "\n",
    "# Print data about the available images\n",
    "num_images = flood_images_gee.shape[0]\n",
    "print(f\"[INFO] Found {num_images} flooding images on archive.\")"
   ]
  },
  {
   "cell_type": "markdown",
   "id": "1a08ee7c",
   "metadata": {},
   "source": [
    "## Plot the floodmap over the satellite data\n",
    "\n",
    "**Building the map in the next cell may take some time.**"
   ]
  },
  {
   "cell_type": "code",
   "execution_count": null,
   "id": "0531aef8",
   "metadata": {},
   "outputs": [],
   "source": [
    "# Filter the map for 'flood_trace' and 'water' polygons only\n",
    "floodmap = floodmap_clip.loc[floodmap_clip['class'].apply(lambda x: x in ['flood_trace', 'water'])]\n",
    "categories = floodmap[\"class\"].unique()\n",
    "print(\"[INFO] Categories in file: \", categories)\n",
    "\n",
    "# Set the colourmap for the maps\n",
    "COLORS = {\n",
    "    'cloud': \"gray\",\n",
    "    'flood_trace': \"turquoise\",\n",
    "    'water': \"blue\"\n",
    "}\n",
    "cmap = matplotlib.colors.ListedColormap([COLORS[b] for b in categories])\n",
    "\n",
    "# Intialise the OpenStreetMap base layer\n",
    "m = geemap.Map(location=region.centroid.coords[0][-1::-1], zoom_start=10)\n",
    "\n",
    "# Add the satellite data for each day\n",
    "for (day, satellite), images_day in flood_images_gee.groupby([\"solarday\", \"satellite\"]):    \n",
    "    image_col_day_sat = flood_collection.filter(ee.Filter.inList(\"title\", images_day.index.tolist()))    \n",
    "    bands = [\"B11\",\"B8\",\"B4\"] if satellite.startswith(\"S2\") else [\"B6\",\"B5\",\"B4\"]\n",
    "    m.addLayer(image_col_day_sat, \n",
    "               {\"min\":0, \"max\":3000 if satellite.startswith(\"S2\") else 0.3, \"bands\": bands},\n",
    "               f\"{satellite}: {day}\",\n",
    "               False)\n",
    "    \n",
    "# Overlay the floodmap and the boundary\n",
    "floodmap.explore(m=m, column=\"class\", cmap=cmap, categories=categories, \n",
    "                 name=\"Flood Extent Map\", style_kwds={\"fillOpacity\": 0.3})\n",
    "boundary_gdf.explore(m=m, style_kwds={\"fillOpacity\": 0.0}, color=\"black\", \n",
    "                     name=\"Boundary\", highlight=False)\n",
    "\n",
<<<<<<< HEAD
    "# Add the layer control\n",
    "folium.LayerControl(collapsed=False).add_to(m)\n",
    "print(\"[INFO] Map ready: execute next cell to display.\")"
=======
    "Explore the Newcastle LGA and visualise available data."
   ]
  },
  {
   "cell_type": "code",
   "execution_count": 10,
   "id": "22dda57a",
   "metadata": {},
   "outputs": [
    {
     "name": "stderr",
     "output_type": "stream",
     "text": [
      "/Users/cpurcell/opt/miniconda3/envs/floodmapper/lib/python3.9/site-packages/shapely/set_operations.py:133: RuntimeWarning: invalid value encountered in intersection\n",
      "  return lib.intersection(a, b, **kwargs)\n"
     ]
    },
    {
     "data": {
      "text/html": [
       "<div style=\"width:100%;\"><div style=\"position:relative;width:100%;height:0;padding-bottom:60%;\"><span style=\"color:#565656\">Make this Notebook Trusted to load map: File -> Trust Notebook</span><iframe srcdoc=\"&lt;!DOCTYPE html&gt;\n",
       "&lt;html&gt;\n",
       "&lt;head&gt;\n",
       "    \n",
       "    &lt;meta http-equiv=&quot;content-type&quot; content=&quot;text/html; charset=UTF-8&quot; /&gt;\n",
       "    \n",
       "        &lt;script&gt;\n",
       "            L_NO_TOUCH = false;\n",
       "            L_DISABLE_3D = false;\n",
       "        &lt;/script&gt;\n",
       "    \n",
       "    &lt;style&gt;html, body {width: 100%;height: 100%;margin: 0;padding: 0;}&lt;/style&gt;\n",
       "    &lt;style&gt;#map {position:absolute;top:0;bottom:0;right:0;left:0;}&lt;/style&gt;\n",
       "    &lt;script src=&quot;https://cdn.jsdelivr.net/npm/leaflet@1.9.3/dist/leaflet.js&quot;&gt;&lt;/script&gt;\n",
       "    &lt;script src=&quot;https://code.jquery.com/jquery-1.12.4.min.js&quot;&gt;&lt;/script&gt;\n",
       "    &lt;script src=&quot;https://cdn.jsdelivr.net/npm/bootstrap@5.2.2/dist/js/bootstrap.bundle.min.js&quot;&gt;&lt;/script&gt;\n",
       "    &lt;script src=&quot;https://cdnjs.cloudflare.com/ajax/libs/Leaflet.awesome-markers/2.0.2/leaflet.awesome-markers.js&quot;&gt;&lt;/script&gt;\n",
       "    &lt;link rel=&quot;stylesheet&quot; href=&quot;https://cdn.jsdelivr.net/npm/leaflet@1.9.3/dist/leaflet.css&quot;/&gt;\n",
       "    &lt;link rel=&quot;stylesheet&quot; href=&quot;https://cdn.jsdelivr.net/npm/bootstrap@5.2.2/dist/css/bootstrap.min.css&quot;/&gt;\n",
       "    &lt;link rel=&quot;stylesheet&quot; href=&quot;https://netdna.bootstrapcdn.com/bootstrap/3.0.0/css/bootstrap.min.css&quot;/&gt;\n",
       "    &lt;link rel=&quot;stylesheet&quot; href=&quot;https://cdn.jsdelivr.net/npm/@fortawesome/fontawesome-free@6.2.0/css/all.min.css&quot;/&gt;\n",
       "    &lt;link rel=&quot;stylesheet&quot; href=&quot;https://cdnjs.cloudflare.com/ajax/libs/Leaflet.awesome-markers/2.0.2/leaflet.awesome-markers.css&quot;/&gt;\n",
       "    &lt;link rel=&quot;stylesheet&quot; href=&quot;https://cdn.jsdelivr.net/gh/python-visualization/folium/folium/templates/leaflet.awesome.rotate.min.css&quot;/&gt;\n",
       "    \n",
       "            &lt;meta name=&quot;viewport&quot; content=&quot;width=device-width,\n",
       "                initial-scale=1.0, maximum-scale=1.0, user-scalable=no&quot; /&gt;\n",
       "            &lt;style&gt;\n",
       "                #map_1c6cb8e9d9a361ed284f11dfad70805d {\n",
       "                    position: relative;\n",
       "                    width: 100.0%;\n",
       "                    height: 100.0%;\n",
       "                    left: 0.0%;\n",
       "                    top: 0.0%;\n",
       "                }\n",
       "                .leaflet-container { font-size: 1rem; }\n",
       "            &lt;/style&gt;\n",
       "        \n",
       "    \n",
       "                    &lt;style&gt;\n",
       "                        .foliumtooltip {\n",
       "                            \n",
       "                        }\n",
       "                       .foliumtooltip table{\n",
       "                            margin: auto;\n",
       "                        }\n",
       "                        .foliumtooltip tr{\n",
       "                            text-align: left;\n",
       "                        }\n",
       "                        .foliumtooltip th{\n",
       "                            padding: 2px; padding-right: 8px;\n",
       "                        }\n",
       "                    &lt;/style&gt;\n",
       "            \n",
       "&lt;/head&gt;\n",
       "&lt;body&gt;\n",
       "    \n",
       "    \n",
       "            &lt;div class=&quot;folium-map&quot; id=&quot;map_1c6cb8e9d9a361ed284f11dfad70805d&quot; &gt;&lt;/div&gt;\n",
       "        \n",
       "&lt;/body&gt;\n",
       "&lt;script&gt;\n",
       "    \n",
       "    \n",
       "            var map_1c6cb8e9d9a361ed284f11dfad70805d = L.map(\n",
       "                &quot;map_1c6cb8e9d9a361ed284f11dfad70805d&quot;,\n",
       "                {\n",
       "                    center: [-32.80016044138381, 151.70500000000055],\n",
       "                    crs: L.CRS.EPSG3857,\n",
       "                    zoom: 10,\n",
       "                    zoomControl: true,\n",
       "                    preferCanvas: false,\n",
       "                }\n",
       "            );\n",
       "            L.control.scale().addTo(map_1c6cb8e9d9a361ed284f11dfad70805d);\n",
       "\n",
       "            \n",
       "\n",
       "        \n",
       "    \n",
       "            var tile_layer_6e3e74a894d075bde812b092a903ea5a = L.tileLayer(\n",
       "                &quot;https://{s}.tile.openstreetmap.org/{z}/{x}/{y}.png&quot;,\n",
       "                {&quot;attribution&quot;: &quot;Data by \\u0026copy; \\u003ca target=\\&quot;_blank\\&quot; href=\\&quot;http://openstreetmap.org\\&quot;\\u003eOpenStreetMap\\u003c/a\\u003e, under \\u003ca target=\\&quot;_blank\\&quot; href=\\&quot;http://www.openstreetmap.org/copyright\\&quot;\\u003eODbL\\u003c/a\\u003e.&quot;, &quot;detectRetina&quot;: false, &quot;maxNativeZoom&quot;: 18, &quot;maxZoom&quot;: 18, &quot;minZoom&quot;: 0, &quot;noWrap&quot;: false, &quot;opacity&quot;: 1, &quot;subdomains&quot;: &quot;abc&quot;, &quot;tms&quot;: false}\n",
       "            ).addTo(map_1c6cb8e9d9a361ed284f11dfad70805d);\n",
       "        \n",
       "    \n",
       "            map_1c6cb8e9d9a361ed284f11dfad70805d.fitBounds(\n",
       "                [[-33.005160441383815, 151.50000000000057], [-32.59516044138381, 151.91000000000057]],\n",
       "                {}\n",
       "            );\n",
       "        \n",
       "    \n",
       "        function geo_json_3d8ff18edf5e9732fd437c99afea1611_styler(feature) {\n",
       "            switch(feature.id) {\n",
       "                default:\n",
       "                    return {&quot;fillOpacity&quot;: 0.3, &quot;weight&quot;: 2};\n",
       "            }\n",
       "        }\n",
       "        function geo_json_3d8ff18edf5e9732fd437c99afea1611_highlighter(feature) {\n",
       "            switch(feature.id) {\n",
       "                default:\n",
       "                    return {&quot;fillOpacity&quot;: 0.75};\n",
       "            }\n",
       "        }\n",
       "        function geo_json_3d8ff18edf5e9732fd437c99afea1611_pointToLayer(feature, latlng) {\n",
       "            var opts = {&quot;bubblingMouseEvents&quot;: true, &quot;color&quot;: &quot;#3388ff&quot;, &quot;dashArray&quot;: null, &quot;dashOffset&quot;: null, &quot;fill&quot;: true, &quot;fillColor&quot;: &quot;#3388ff&quot;, &quot;fillOpacity&quot;: 0.2, &quot;fillRule&quot;: &quot;evenodd&quot;, &quot;lineCap&quot;: &quot;round&quot;, &quot;lineJoin&quot;: &quot;round&quot;, &quot;opacity&quot;: 1.0, &quot;radius&quot;: 2, &quot;stroke&quot;: true, &quot;weight&quot;: 3};\n",
       "            \n",
       "            let style = geo_json_3d8ff18edf5e9732fd437c99afea1611_styler(feature)\n",
       "            Object.assign(opts, style)\n",
       "            \n",
       "            return new L.CircleMarker(latlng, opts)\n",
       "        }\n",
       "\n",
       "        function geo_json_3d8ff18edf5e9732fd437c99afea1611_onEachFeature(feature, layer) {\n",
       "            layer.on({\n",
       "                mouseout: function(e) {\n",
       "                    if(typeof e.target.setStyle === &quot;function&quot;){\n",
       "                        geo_json_3d8ff18edf5e9732fd437c99afea1611.resetStyle(e.target);\n",
       "                    }\n",
       "                },\n",
       "                mouseover: function(e) {\n",
       "                    if(typeof e.target.setStyle === &quot;function&quot;){\n",
       "                        const highlightStyle = geo_json_3d8ff18edf5e9732fd437c99afea1611_highlighter(e.target.feature)\n",
       "                        e.target.setStyle(highlightStyle);\n",
       "                    }\n",
       "                },\n",
       "            });\n",
       "        };\n",
       "        var geo_json_3d8ff18edf5e9732fd437c99afea1611 = L.geoJson(null, {\n",
       "                onEachFeature: geo_json_3d8ff18edf5e9732fd437c99afea1611_onEachFeature,\n",
       "            \n",
       "                style: geo_json_3d8ff18edf5e9732fd437c99afea1611_styler,\n",
       "                pointToLayer: geo_json_3d8ff18edf5e9732fd437c99afea1611_pointToLayer\n",
       "        });\n",
       "\n",
       "        function geo_json_3d8ff18edf5e9732fd437c99afea1611_add (data) {\n",
       "            geo_json_3d8ff18edf5e9732fd437c99afea1611\n",
       "                .addData(data)\n",
       "                .addTo(map_1c6cb8e9d9a361ed284f11dfad70805d);\n",
       "        }\n",
       "            geo_json_3d8ff18edf5e9732fd437c99afea1611_add({&quot;bbox&quot;: [151.50000000000057, -33.005160441383815, 151.91000000000057, -32.59516044138381], &quot;features&quot;: [{&quot;bbox&quot;: [151.50000000000057, -33.005160441383815, 151.71000000000058, -32.795160441383814], &quot;geometry&quot;: {&quot;coordinates&quot;: [[[151.71000000000058, -33.005160441383815], [151.71000000000058, -32.795160441383814], [151.50000000000057, -32.795160441383814], [151.50000000000057, -33.005160441383815], [151.71000000000058, -33.005160441383815]]], &quot;type&quot;: &quot;Polygon&quot;}, &quot;id&quot;: &quot;23198&quot;, &quot;properties&quot;: {&quot;LGA_NAME22&quot;: &quot;Cessnock&quot;, &quot;name&quot;: &quot;GRID32673&quot;}, &quot;type&quot;: &quot;Feature&quot;}, {&quot;bbox&quot;: [151.50000000000057, -33.005160441383815, 151.71000000000058, -32.795160441383814], &quot;geometry&quot;: {&quot;coordinates&quot;: [[[151.71000000000058, -33.005160441383815], [151.71000000000058, -32.795160441383814], [151.50000000000057, -32.795160441383814], [151.50000000000057, -33.005160441383815], [151.71000000000058, -33.005160441383815]]], &quot;type&quot;: &quot;Polygon&quot;}, &quot;id&quot;: &quot;23199&quot;, &quot;properties&quot;: {&quot;LGA_NAME22&quot;: &quot;Lake Macquarie&quot;, &quot;name&quot;: &quot;GRID32673&quot;}, &quot;type&quot;: &quot;Feature&quot;}, {&quot;bbox&quot;: [151.50000000000057, -33.005160441383815, 151.71000000000058, -32.795160441383814], &quot;geometry&quot;: {&quot;coordinates&quot;: [[[151.71000000000058, -33.005160441383815], [151.71000000000058, -32.795160441383814], [151.50000000000057, -32.795160441383814], [151.50000000000057, -33.005160441383815], [151.71000000000058, -33.005160441383815]]], &quot;type&quot;: &quot;Polygon&quot;}, &quot;id&quot;: &quot;23200&quot;, &quot;properties&quot;: {&quot;LGA_NAME22&quot;: &quot;Maitland&quot;, &quot;name&quot;: &quot;GRID32673&quot;}, &quot;type&quot;: &quot;Feature&quot;}, {&quot;bbox&quot;: [151.50000000000057, -33.005160441383815, 151.71000000000058, -32.795160441383814], &quot;geometry&quot;: {&quot;coordinates&quot;: [[[151.71000000000058, -33.005160441383815], [151.71000000000058, -32.795160441383814], [151.50000000000057, -32.795160441383814], [151.50000000000057, -33.005160441383815], [151.71000000000058, -33.005160441383815]]], &quot;type&quot;: &quot;Polygon&quot;}, &quot;id&quot;: &quot;23201&quot;, &quot;properties&quot;: {&quot;LGA_NAME22&quot;: &quot;Newcastle&quot;, &quot;name&quot;: &quot;GRID32673&quot;}, &quot;type&quot;: &quot;Feature&quot;}, {&quot;bbox&quot;: [151.50000000000057, -33.005160441383815, 151.71000000000058, -32.795160441383814], &quot;geometry&quot;: {&quot;coordinates&quot;: [[[151.71000000000058, -33.005160441383815], [151.71000000000058, -32.795160441383814], [151.50000000000057, -32.795160441383814], [151.50000000000057, -33.005160441383815], [151.71000000000058, -33.005160441383815]]], &quot;type&quot;: &quot;Polygon&quot;}, &quot;id&quot;: &quot;23202&quot;, &quot;properties&quot;: {&quot;LGA_NAME22&quot;: &quot;Port Stephens&quot;, &quot;name&quot;: &quot;GRID32673&quot;}, &quot;type&quot;: &quot;Feature&quot;}, {&quot;bbox&quot;: [151.50000000000057, -32.80516044138381, 151.71000000000058, -32.59516044138381], &quot;geometry&quot;: {&quot;coordinates&quot;: [[[151.71000000000058, -32.80516044138381], [151.71000000000058, -32.59516044138381], [151.50000000000057, -32.59516044138381], [151.50000000000057, -32.80516044138381], [151.71000000000058, -32.80516044138381]]], &quot;type&quot;: &quot;Polygon&quot;}, &quot;id&quot;: &quot;23203&quot;, &quot;properties&quot;: {&quot;LGA_NAME22&quot;: &quot;Cessnock&quot;, &quot;name&quot;: &quot;GRID32674&quot;}, &quot;type&quot;: &quot;Feature&quot;}, {&quot;bbox&quot;: [151.50000000000057, -32.80516044138381, 151.71000000000058, -32.59516044138381], &quot;geometry&quot;: {&quot;coordinates&quot;: [[[151.71000000000058, -32.80516044138381], [151.71000000000058, -32.59516044138381], [151.50000000000057, -32.59516044138381], [151.50000000000057, -32.80516044138381], [151.71000000000058, -32.80516044138381]]], &quot;type&quot;: &quot;Polygon&quot;}, &quot;id&quot;: &quot;23204&quot;, &quot;properties&quot;: {&quot;LGA_NAME22&quot;: &quot;Dungog&quot;, &quot;name&quot;: &quot;GRID32674&quot;}, &quot;type&quot;: &quot;Feature&quot;}, {&quot;bbox&quot;: [151.50000000000057, -32.80516044138381, 151.71000000000058, -32.59516044138381], &quot;geometry&quot;: {&quot;coordinates&quot;: [[[151.71000000000058, -32.80516044138381], [151.71000000000058, -32.59516044138381], [151.50000000000057, -32.59516044138381], [151.50000000000057, -32.80516044138381], [151.71000000000058, -32.80516044138381]]], &quot;type&quot;: &quot;Polygon&quot;}, &quot;id&quot;: &quot;23205&quot;, &quot;properties&quot;: {&quot;LGA_NAME22&quot;: &quot;Maitland&quot;, &quot;name&quot;: &quot;GRID32674&quot;}, &quot;type&quot;: &quot;Feature&quot;}, {&quot;bbox&quot;: [151.50000000000057, -32.80516044138381, 151.71000000000058, -32.59516044138381], &quot;geometry&quot;: {&quot;coordinates&quot;: [[[151.71000000000058, -32.80516044138381], [151.71000000000058, -32.59516044138381], [151.50000000000057, -32.59516044138381], [151.50000000000057, -32.80516044138381], [151.71000000000058, -32.80516044138381]]], &quot;type&quot;: &quot;Polygon&quot;}, &quot;id&quot;: &quot;23206&quot;, &quot;properties&quot;: {&quot;LGA_NAME22&quot;: &quot;Newcastle&quot;, &quot;name&quot;: &quot;GRID32674&quot;}, &quot;type&quot;: &quot;Feature&quot;}, {&quot;bbox&quot;: [151.50000000000057, -32.80516044138381, 151.71000000000058, -32.59516044138381], &quot;geometry&quot;: {&quot;coordinates&quot;: [[[151.71000000000058, -32.80516044138381], [151.71000000000058, -32.59516044138381], [151.50000000000057, -32.59516044138381], [151.50000000000057, -32.80516044138381], [151.71000000000058, -32.80516044138381]]], &quot;type&quot;: &quot;Polygon&quot;}, &quot;id&quot;: &quot;23207&quot;, &quot;properties&quot;: {&quot;LGA_NAME22&quot;: &quot;Port Stephens&quot;, &quot;name&quot;: &quot;GRID32674&quot;}, &quot;type&quot;: &quot;Feature&quot;}, {&quot;bbox&quot;: [151.70000000000056, -33.005160441383815, 151.91000000000057, -32.795160441383814], &quot;geometry&quot;: {&quot;coordinates&quot;: [[[151.91000000000057, -33.005160441383815], [151.91000000000057, -32.795160441383814], [151.70000000000056, -32.795160441383814], [151.70000000000056, -33.005160441383815], [151.91000000000057, -33.005160441383815]]], &quot;type&quot;: &quot;Polygon&quot;}, &quot;id&quot;: &quot;23281&quot;, &quot;properties&quot;: {&quot;LGA_NAME22&quot;: &quot;Lake Macquarie&quot;, &quot;name&quot;: &quot;GRID32842&quot;}, &quot;type&quot;: &quot;Feature&quot;}, {&quot;bbox&quot;: [151.70000000000056, -33.005160441383815, 151.91000000000057, -32.795160441383814], &quot;geometry&quot;: {&quot;coordinates&quot;: [[[151.91000000000057, -33.005160441383815], [151.91000000000057, -32.795160441383814], [151.70000000000056, -32.795160441383814], [151.70000000000056, -33.005160441383815], [151.91000000000057, -33.005160441383815]]], &quot;type&quot;: &quot;Polygon&quot;}, &quot;id&quot;: &quot;23282&quot;, &quot;properties&quot;: {&quot;LGA_NAME22&quot;: &quot;Newcastle&quot;, &quot;name&quot;: &quot;GRID32842&quot;}, &quot;type&quot;: &quot;Feature&quot;}, {&quot;bbox&quot;: [151.70000000000056, -33.005160441383815, 151.91000000000057, -32.795160441383814], &quot;geometry&quot;: {&quot;coordinates&quot;: [[[151.91000000000057, -33.005160441383815], [151.91000000000057, -32.795160441383814], [151.70000000000056, -32.795160441383814], [151.70000000000056, -33.005160441383815], [151.91000000000057, -33.005160441383815]]], &quot;type&quot;: &quot;Polygon&quot;}, &quot;id&quot;: &quot;23283&quot;, &quot;properties&quot;: {&quot;LGA_NAME22&quot;: &quot;Port Stephens&quot;, &quot;name&quot;: &quot;GRID32842&quot;}, &quot;type&quot;: &quot;Feature&quot;}, {&quot;bbox&quot;: [151.70000000000056, -32.80516044138381, 151.91000000000057, -32.59516044138381], &quot;geometry&quot;: {&quot;coordinates&quot;: [[[151.91000000000057, -32.80516044138381], [151.91000000000057, -32.59516044138381], [151.70000000000056, -32.59516044138381], [151.70000000000056, -32.80516044138381], [151.91000000000057, -32.80516044138381]]], &quot;type&quot;: &quot;Polygon&quot;}, &quot;id&quot;: &quot;23284&quot;, &quot;properties&quot;: {&quot;LGA_NAME22&quot;: &quot;Dungog&quot;, &quot;name&quot;: &quot;GRID32843&quot;}, &quot;type&quot;: &quot;Feature&quot;}, {&quot;bbox&quot;: [151.70000000000056, -32.80516044138381, 151.91000000000057, -32.59516044138381], &quot;geometry&quot;: {&quot;coordinates&quot;: [[[151.91000000000057, -32.80516044138381], [151.91000000000057, -32.59516044138381], [151.70000000000056, -32.59516044138381], [151.70000000000056, -32.80516044138381], [151.91000000000057, -32.80516044138381]]], &quot;type&quot;: &quot;Polygon&quot;}, &quot;id&quot;: &quot;23285&quot;, &quot;properties&quot;: {&quot;LGA_NAME22&quot;: &quot;Maitland&quot;, &quot;name&quot;: &quot;GRID32843&quot;}, &quot;type&quot;: &quot;Feature&quot;}, {&quot;bbox&quot;: [151.70000000000056, -32.80516044138381, 151.91000000000057, -32.59516044138381], &quot;geometry&quot;: {&quot;coordinates&quot;: [[[151.91000000000057, -32.80516044138381], [151.91000000000057, -32.59516044138381], [151.70000000000056, -32.59516044138381], [151.70000000000056, -32.80516044138381], [151.91000000000057, -32.80516044138381]]], &quot;type&quot;: &quot;Polygon&quot;}, &quot;id&quot;: &quot;23286&quot;, &quot;properties&quot;: {&quot;LGA_NAME22&quot;: &quot;Mid-Coast&quot;, &quot;name&quot;: &quot;GRID32843&quot;}, &quot;type&quot;: &quot;Feature&quot;}, {&quot;bbox&quot;: [151.70000000000056, -32.80516044138381, 151.91000000000057, -32.59516044138381], &quot;geometry&quot;: {&quot;coordinates&quot;: [[[151.91000000000057, -32.80516044138381], [151.91000000000057, -32.59516044138381], [151.70000000000056, -32.59516044138381], [151.70000000000056, -32.80516044138381], [151.91000000000057, -32.80516044138381]]], &quot;type&quot;: &quot;Polygon&quot;}, &quot;id&quot;: &quot;23287&quot;, &quot;properties&quot;: {&quot;LGA_NAME22&quot;: &quot;Port Stephens&quot;, &quot;name&quot;: &quot;GRID32843&quot;}, &quot;type&quot;: &quot;Feature&quot;}], &quot;type&quot;: &quot;FeatureCollection&quot;});\n",
       "\n",
       "        \n",
       "    \n",
       "    geo_json_3d8ff18edf5e9732fd437c99afea1611.bindTooltip(\n",
       "    function(layer){\n",
       "    let div = L.DomUtil.create(&#x27;div&#x27;);\n",
       "    \n",
       "    let handleObject = feature=&gt;typeof(feature)==&#x27;object&#x27; ? JSON.stringify(feature) : feature;\n",
       "    let fields = [&quot;name&quot;, &quot;LGA_NAME22&quot;];\n",
       "    let aliases = [&quot;name&quot;, &quot;LGA_NAME22&quot;];\n",
       "    let table = &#x27;&lt;table&gt;&#x27; +\n",
       "        String(\n",
       "        fields.map(\n",
       "        (v,i)=&gt;\n",
       "        `&lt;tr&gt;\n",
       "            &lt;th&gt;${aliases[i]}&lt;/th&gt;\n",
       "            \n",
       "            &lt;td&gt;${handleObject(layer.feature.properties[v])}&lt;/td&gt;\n",
       "        &lt;/tr&gt;`).join(&#x27;&#x27;))\n",
       "    +&#x27;&lt;/table&gt;&#x27;;\n",
       "    div.innerHTML=table;\n",
       "    \n",
       "    return div\n",
       "    }\n",
       "    ,{&quot;className&quot;: &quot;foliumtooltip&quot;, &quot;sticky&quot;: true});\n",
       "                     \n",
       "&lt;/script&gt;\n",
       "&lt;/html&gt;\" style=\"position:absolute;width:100%;height:100%;left:0;top:0;border:none !important;\" allowfullscreen webkitallowfullscreen mozallowfullscreen></iframe></div></div>"
      ],
      "text/plain": [
       "<folium.folium.Map at 0x284ef8820>"
      ]
     },
     "execution_count": 10,
     "metadata": {},
     "output_type": "execute_result"
    }
   ],
   "source": [
    "# Choose Newcastle (LGA[0]) and fetch the grid polygons covering the LGA\n",
    "lga_name = lga_req_list[0]\n",
    "grid_list, grid_lga_df = intersect_lga_grid(lga_name, lga_df, grid_df)\n",
    "grid_lga_df.explore(style_kwds={\"fillOpacity\": 0.3})"
   ]
  },
  {
   "cell_type": "markdown",
   "id": "4b2410c3",
   "metadata": {},
   "source": [
    "**Visualise data availability in a representative grid patch**\n",
    "\n",
    "For Newcastle choose GRID32842"
   ]
  },
  {
   "cell_type": "code",
   "execution_count": null,
   "id": "475d09ce",
   "metadata": {},
   "outputs": [],
   "source": [
    "# Choose a representative grid from the map above\n",
    "grid_name = \"GRID32842\"\n",
    "\n",
    "# Fetch the metadata from the bucket (FIXME!)\n",
    "#metadata = get_metadata_grid(grid_name, bucket_name)\n",
    "#print(f\"There are {metadata.shape[0]} entries in the table.\")\n",
    "#metadata.head(5)"
   ]
  },
  {
   "cell_type": "code",
   "execution_count": null,
   "id": "34084adb",
   "metadata": {},
   "outputs": [],
   "source": [
    "# Plot the timeseries of data (FIXME)\n",
    "#fig, ax = plt.subplots(1,1, figsize=(15,5))\n",
    "#plot_data_timeseries(metadata, period_flood_start, period_flood_end, period_pre_flood_start)"
   ]
  },
  {
   "cell_type": "markdown",
   "id": "a89fe6e2",
   "metadata": {},
   "source": [
    "**Create the aggregate flood map and explore**"
   ]
  },
  {
   "cell_type": "code",
   "execution_count": 11,
   "id": "f453a649",
   "metadata": {},
   "outputs": [
    {
     "ename": "IndexError",
     "evalue": "list index out of range",
     "output_type": "error",
     "traceback": [
      "\u001b[0;31m---------------------------------------------------------------------------\u001b[0m",
      "\u001b[0;31mIndexError\u001b[0m                                Traceback (most recent call last)",
      "Cell \u001b[0;32mIn[11], line 2\u001b[0m\n\u001b[1;32m      1\u001b[0m \u001b[38;5;66;03m# Create an aggregate floodmap from the images in GCP\u001b[39;00m\n\u001b[0;32m----> 2\u001b[0m floodmap \u001b[38;5;241m=\u001b[39m \u001b[43mcreate_aggregate_floodmap\u001b[49m\u001b[43m(\u001b[49m\u001b[43mgrid_fs\u001b[49m\u001b[43m,\u001b[49m\u001b[43m \u001b[49m\u001b[43mgrid_list\u001b[49m\u001b[43m,\u001b[49m\u001b[43m \u001b[49m\u001b[43mbucket_name\u001b[49m\u001b[43m)\u001b[49m\n\u001b[1;32m      3\u001b[0m plot_utils\u001b[38;5;241m.\u001b[39mplot_floodmap(floodmap)                 \n",
      "Cell \u001b[0;32mIn[9], line 46\u001b[0m, in \u001b[0;36mcreate_aggregate_floodmap\u001b[0;34m(grid_fs, grid_list, bucket_name)\u001b[0m\n\u001b[1;32m     44\u001b[0m \u001b[38;5;250m\u001b[39m\u001b[38;5;124;03m\"\"\"Create a mosaiced floodmap covering the specified grid patches.\"\"\"\u001b[39;00m\n\u001b[1;32m     45\u001b[0m floodmaps_aggregate \u001b[38;5;241m=\u001b[39m []\n\u001b[0;32m---> 46\u001b[0m floodmaps_aggregate \u001b[38;5;241m=\u001b[39m [\u001b[38;5;124m\"\u001b[39m\u001b[38;5;124mgs://\u001b[39m\u001b[38;5;124m\"\u001b[39m \n\u001b[1;32m     47\u001b[0m                        \u001b[38;5;241m+\u001b[39m grid_fs\u001b[38;5;241m.\u001b[39mglob(\u001b[38;5;124mf\u001b[39m\u001b[38;5;124m\"\u001b[39m\u001b[38;5;132;01m{\u001b[39;00mbucket_name\u001b[38;5;132;01m}\u001b[39;00m\u001b[38;5;124m/0_DEV/1_Staging\u001b[39m\u001b[38;5;124m\"\u001b[39m\n\u001b[1;32m     48\u001b[0m                                       \u001b[38;5;241m+\u001b[39m \u001b[38;5;124mf\u001b[39m\u001b[38;5;124m\"\u001b[39m\u001b[38;5;124m/operational/\u001b[39m\u001b[38;5;132;01m{\u001b[39;00msession_name\u001b[38;5;132;01m}\u001b[39;00m\u001b[38;5;124m/\u001b[39m\u001b[38;5;132;01m{\u001b[39;00mg\u001b[38;5;132;01m}\u001b[39;00m\u001b[38;5;124m\"\u001b[39m\n\u001b[1;32m     49\u001b[0m                                       \u001b[38;5;241m+\u001b[39m \u001b[38;5;124mf\u001b[39m\u001b[38;5;124m\"\u001b[39m\u001b[38;5;124m/pre_post_products/postflood*.geojson\u001b[39m\u001b[38;5;124m\"\u001b[39m)[\u001b[38;5;241m0\u001b[39m]\n\u001b[1;32m     50\u001b[0m                        \u001b[38;5;28;01mfor\u001b[39;00m g \u001b[38;5;129;01min\u001b[39;00m grid_list]\n\u001b[1;32m     51\u001b[0m floodmap \u001b[38;5;241m=\u001b[39m spatial_aggregation(floodmaps_aggregate)\n\u001b[1;32m     52\u001b[0m \u001b[38;5;28;01mreturn\u001b[39;00m floodmap\n",
      "Cell \u001b[0;32mIn[9], line 47\u001b[0m, in \u001b[0;36m<listcomp>\u001b[0;34m(.0)\u001b[0m\n\u001b[1;32m     44\u001b[0m \u001b[38;5;250m\u001b[39m\u001b[38;5;124;03m\"\"\"Create a mosaiced floodmap covering the specified grid patches.\"\"\"\u001b[39;00m\n\u001b[1;32m     45\u001b[0m floodmaps_aggregate \u001b[38;5;241m=\u001b[39m []\n\u001b[1;32m     46\u001b[0m floodmaps_aggregate \u001b[38;5;241m=\u001b[39m [\u001b[38;5;124m\"\u001b[39m\u001b[38;5;124mgs://\u001b[39m\u001b[38;5;124m\"\u001b[39m \n\u001b[0;32m---> 47\u001b[0m                        \u001b[38;5;241m+\u001b[39m \u001b[43mgrid_fs\u001b[49m\u001b[38;5;241;43m.\u001b[39;49m\u001b[43mglob\u001b[49m\u001b[43m(\u001b[49m\u001b[38;5;124;43mf\u001b[39;49m\u001b[38;5;124;43m\"\u001b[39;49m\u001b[38;5;132;43;01m{\u001b[39;49;00m\u001b[43mbucket_name\u001b[49m\u001b[38;5;132;43;01m}\u001b[39;49;00m\u001b[38;5;124;43m/0_DEV/1_Staging\u001b[39;49m\u001b[38;5;124;43m\"\u001b[39;49m\n\u001b[1;32m     48\u001b[0m \u001b[43m                                      \u001b[49m\u001b[38;5;241;43m+\u001b[39;49m\u001b[43m \u001b[49m\u001b[38;5;124;43mf\u001b[39;49m\u001b[38;5;124;43m\"\u001b[39;49m\u001b[38;5;124;43m/operational/\u001b[39;49m\u001b[38;5;132;43;01m{\u001b[39;49;00m\u001b[43msession_name\u001b[49m\u001b[38;5;132;43;01m}\u001b[39;49;00m\u001b[38;5;124;43m/\u001b[39;49m\u001b[38;5;132;43;01m{\u001b[39;49;00m\u001b[43mg\u001b[49m\u001b[38;5;132;43;01m}\u001b[39;49;00m\u001b[38;5;124;43m\"\u001b[39;49m\n\u001b[1;32m     49\u001b[0m \u001b[43m                                      \u001b[49m\u001b[38;5;241;43m+\u001b[39;49m\u001b[43m \u001b[49m\u001b[38;5;124;43mf\u001b[39;49m\u001b[38;5;124;43m\"\u001b[39;49m\u001b[38;5;124;43m/pre_post_products/postflood*.geojson\u001b[39;49m\u001b[38;5;124;43m\"\u001b[39;49m\u001b[43m)\u001b[49m\u001b[43m[\u001b[49m\u001b[38;5;241;43m0\u001b[39;49m\u001b[43m]\u001b[49m\n\u001b[1;32m     50\u001b[0m                        \u001b[38;5;28;01mfor\u001b[39;00m g \u001b[38;5;129;01min\u001b[39;00m grid_list]\n\u001b[1;32m     51\u001b[0m floodmap \u001b[38;5;241m=\u001b[39m spatial_aggregation(floodmaps_aggregate)\n\u001b[1;32m     52\u001b[0m \u001b[38;5;28;01mreturn\u001b[39;00m floodmap\n",
      "\u001b[0;31mIndexError\u001b[0m: list index out of range"
     ]
    }
   ],
   "source": [
    "# Create an aggregate floodmap from the images in GCP\n",
    "floodmap = create_aggregate_floodmap(grid_fs, grid_list, bucket_name)\n",
    "plot_utils.plot_floodmap(floodmap)                 "
   ]
  },
  {
   "cell_type": "code",
   "execution_count": null,
   "id": "2c671b0a",
   "metadata": {},
   "outputs": [],
   "source": [
    "# Create an outline of the gridded LGA to query data\n",
    "grid_outline = grid_lga_df.dissolve().geometry.values[0]\n",
    "grid_outline"
   ]
  },
  {
   "cell_type": "code",
   "execution_count": null,
   "id": "f9e5c8a2",
   "metadata": {},
   "outputs": [],
   "source": [
    "# Check for images covering the flood period \n",
    "images_available_gee, collection = \\\n",
    "    query_ee_images(grid_outline,\n",
    "                    period_flood_start,\n",
    "                    period_flood_end)\n",
    "\n",
    "# Check for images before flood period \n",
    "images_available_gee_pre, collection_pre = \\\n",
    "    query_ee_images(grid_outline,\n",
    "                    period_pre_flood_start,\n",
    "                    period_pre_flood_end)\n",
    "\n",
    "assert images_available_gee.shape[0] > 0, \"[ERR] No images found for date and location!\"\n",
    "print(\"Total images available:\", images_available_gee.shape[0])"
   ]
  },
  {
   "cell_type": "code",
   "execution_count": null,
   "id": "70f8ab69",
   "metadata": {},
   "outputs": [],
   "source": [
    "# Build a Folium map\n",
    "m = build_interactive_map(bucket_name, grid_outline, floodmap, images_available_gee, images_available_gee_pre,\n",
    "                         do_plot_day=True)"
   ]
  },
  {
   "cell_type": "code",
   "execution_count": null,
   "id": "b57a21f8",
   "metadata": {},
   "outputs": [],
   "source": [
    "# Display the map\n",
    "m"
>>>>>>> main
   ]
  },
  {
   "cell_type": "code",
   "execution_count": null,
   "id": "3752296f",
   "metadata": {},
   "outputs": [],
   "source": [
    "# Show the map\n",
    "m"
   ]
  },
  {
   "cell_type": "code",
   "execution_count": null,
   "id": "958aaa96",
   "metadata": {},
   "outputs": [],
   "source": []
  }
 ],
 "metadata": {
  "kernelspec": {
<<<<<<< HEAD
   "display_name": "Python (floodmapper)",
=======
   "display_name": "Python 3 (ipykernel)",
>>>>>>> main
   "language": "python",
   "name": "floodmapper"
  },
  "language_info": {
   "codemirror_mode": {
    "name": "ipython",
    "version": 3
   },
   "file_extension": ".py",
   "mimetype": "text/x-python",
   "name": "python",
   "nbconvert_exporter": "python",
   "pygments_lexer": "ipython3",
   "version": "3.9.16"
  }
 },
 "nbformat": 4,
 "nbformat_minor": 5
}
